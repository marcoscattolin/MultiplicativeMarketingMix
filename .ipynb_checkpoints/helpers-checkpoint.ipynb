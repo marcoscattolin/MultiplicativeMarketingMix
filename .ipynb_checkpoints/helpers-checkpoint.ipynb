{
 "cells": [
  {
   "cell_type": "code",
   "execution_count": 36,
   "metadata": {
    "ExecuteTime": {
     "end_time": "2021-06-02T10:19:42.180535Z",
     "start_time": "2021-06-02T10:19:42.175576Z"
    }
   },
   "outputs": [],
   "source": [
    "import pandas as pd\n",
    "import pymc3 as pm\n",
    "import arviz as az\n",
    "import theano.tensor as tt\n",
    "import numpy as np\n",
    "\n",
    "import matplotlib.pyplot as plt\n",
    "import pickle\n",
    "\n",
    "import seaborn as sns\n",
    "\n",
    "import pystan\n",
    "\n",
    "import re"
   ]
  },
  {
   "cell_type": "code",
   "execution_count": 37,
   "metadata": {
    "ExecuteTime": {
     "end_time": "2021-06-02T10:19:42.675054Z",
     "start_time": "2021-06-02T10:19:42.670055Z"
    }
   },
   "outputs": [],
   "source": [
    "def get_mape(y_true, y_pred):\n",
    "    \n",
    "    '''\n",
    "    Mean Absolute Percentage Error\n",
    "    \n",
    "    '''\n",
    "    \n",
    "    err = np.mean(np.abs((y_true - y_pred) / y_true)) * 100\n",
    "    \n",
    "    return err\n",
    "\n",
    "def get_rmse(y_true, y_pred):\n",
    "    '''\n",
    "    Root Mean Squared Error\n",
    "    \n",
    "    '''\n",
    "    rmse = (y_true - y_pred)**2\n",
    "    rmse = np.sqrt(np.mean(rmse))\n",
    "    \n",
    "    return rmse "
   ]
  },
  {
   "cell_type": "code",
   "execution_count": 108,
   "metadata": {
    "ExecuteTime": {
     "end_time": "2021-06-02T10:46:50.353578Z",
     "start_time": "2021-06-02T10:46:50.333579Z"
    }
   },
   "outputs": [],
   "source": [
    "class MmmDataset:\n",
    "    \n",
    "    \n",
    "    def __init__(self, filename):\n",
    "        \n",
    "        # load data\n",
    "        df = pd.read_csv(filename)\n",
    "        df = df.set_index('wk_strt_dt')\n",
    "        \n",
    "        # extract impressions and rename\n",
    "        imp_df = df.filter(regex='mdip_.*')\n",
    "        self.impressions_df = imp_df.rename(columns=lambda x: x.replace('mdip_',''))\n",
    "        \n",
    "        # extract spending and rename\n",
    "        spend_df = df.filter(regex='mdsp_.*')\n",
    "        self.spend_df = spend_df.rename(columns=lambda x: x.replace('mdsp_',''))\n",
    "        \n",
    "        # extract base variabiles (macro economics, store counts, markdowns)\n",
    "        self.base_vars_df = df.filter(regex='(me_.*)|(st_ct)|(mrkdn_.*)')\n",
    "        \n",
    "        # extract holidays\n",
    "        self.hldy_df = df.filter(regex='(hldy_.*)')\n",
    "        \n",
    "        # extract seasonals\n",
    "        self.seas_df = df.filter(regex='(seas_.*)')\n",
    "        \n",
    "        # extract target variable\n",
    "        self.target_df = df[['sales']]\n",
    "    \n",
    "    def get_base_model_data(self):\n",
    "    \n",
    "        data = {}\n",
    "        \n",
    "        # mean center target\n",
    "        y = self.target_df.values.reshape(-1)\n",
    "        y = y / y.mean()\n",
    "        data['y'] = y\n",
    "        data['max_intercept'] = y.min()\n",
    "        \n",
    "        # mean center base vars\n",
    "        centered_base_df = self.base_vars_df / self.base_vars_df.mean(axis=0)\n",
    "        \n",
    "        # variables with positive constrained coefficients\n",
    "        data['positive_vars'] = pd.concat([centered_base_df, self.hldy_df], axis=1).values\n",
    "\n",
    "        # variables with non constrained coefficients\n",
    "        data['posneg_vars'] = self.seas_df.values\n",
    "\n",
    "        return data\n",
    "\n",
    "    def set_baseline_df(self, base_sales):\n",
    "        \n",
    "        self.baseline_df = pd.DataFrame({'baseline_sales' : base_sales})\n",
    "        self.baseline_df.index = self.target_df.index\n",
    "        "
   ]
  }
 ],
 "metadata": {
  "kernelspec": {
   "display_name": "Python 3",
   "language": "python",
   "name": "python3"
  },
  "language_info": {
   "codemirror_mode": {
    "name": "ipython",
    "version": 3
   },
   "file_extension": ".py",
   "mimetype": "text/x-python",
   "name": "python",
   "nbconvert_exporter": "python",
   "pygments_lexer": "ipython3",
   "version": "3.8.5"
  },
  "toc": {
   "base_numbering": 1,
   "nav_menu": {},
   "number_sections": true,
   "sideBar": true,
   "skip_h1_title": false,
   "title_cell": "Table of Contents",
   "title_sidebar": "Contents",
   "toc_cell": false,
   "toc_position": {},
   "toc_section_display": true,
   "toc_window_display": false
  },
  "varInspector": {
   "cols": {
    "lenName": 16,
    "lenType": 16,
    "lenVar": 40
   },
   "kernels_config": {
    "python": {
     "delete_cmd_postfix": "",
     "delete_cmd_prefix": "del ",
     "library": "var_list.py",
     "varRefreshCmd": "print(var_dic_list())"
    },
    "r": {
     "delete_cmd_postfix": ") ",
     "delete_cmd_prefix": "rm(",
     "library": "var_list.r",
     "varRefreshCmd": "cat(var_dic_list()) "
    }
   },
   "types_to_exclude": [
    "module",
    "function",
    "builtin_function_or_method",
    "instance",
    "_Feature"
   ],
   "window_display": false
  }
 },
 "nbformat": 4,
 "nbformat_minor": 4
}
