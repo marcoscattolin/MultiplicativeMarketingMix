{
 "cells": [
  {
   "cell_type": "code",
   "execution_count": 1045,
   "metadata": {
    "ExecuteTime": {
     "end_time": "2021-06-03T16:26:57.115083Z",
     "start_time": "2021-06-03T16:26:57.015998Z"
    }
   },
   "outputs": [],
   "source": [
    "%run ./helpers.ipynb"
   ]
  },
  {
   "cell_type": "code",
   "execution_count": 1046,
   "metadata": {
    "ExecuteTime": {
     "end_time": "2021-06-03T16:26:57.136501Z",
     "start_time": "2021-06-03T16:26:57.130274Z"
    }
   },
   "outputs": [],
   "source": [
    "plt.rcParams['figure.figsize'] = (15,10)"
   ]
  },
  {
   "cell_type": "markdown",
   "metadata": {
    "ExecuteTime": {
     "end_time": "2021-06-03T09:46:34.370381Z",
     "start_time": "2021-06-03T09:46:34.359704Z"
    }
   },
   "source": [
    "# Load data\n",
    "\n",
    "Four years' (209 weeks) records of sales, media impression and media spending at weekly level.\n",
    "\n",
    "1. Media Variables:\n",
    "    - `dataset.impressions_df`: **impressions** of 13 media channels: direct mail, insert, newspaper, digital audio, radio, TV, digital video, social media, online display, email, SMS, affiliates, SEM.\n",
    "    - `dataset.spend_df`: **spending** of media 10 channels.\n",
    "\n",
    "\n",
    "2. Control Variables:\n",
    "    - `dataset.spend_df` : macro economic data with prefix `me_` (CPI, gas price), markdown data with prefix `mrkdn_` (markdown/discount), store count data with prefix `st_ct` : count of stores\n",
    "    - `dataset.spend_df` : one-hot encoded holidays\n",
    "    - `dataset.seas_df` : : one-hot encoded month seasonalities, with Nov and Dec further broken into to weeks\n",
    "\n",
    "\n",
    "3. Sales Variable:\n",
    "    - `dataset.target_df`"
   ]
  },
  {
   "cell_type": "code",
   "execution_count": 1047,
   "metadata": {
    "ExecuteTime": {
     "end_time": "2021-06-03T16:26:57.185041Z",
     "start_time": "2021-06-03T16:26:57.141436Z"
    }
   },
   "outputs": [],
   "source": [
    "# load data\n",
    "dataset = MmmDataset('./dataset/data.csv')"
   ]
  },
  {
   "cell_type": "markdown",
   "metadata": {},
   "source": [
    "# Base model\n",
    "\n",
    "Fit model regressing `sales` over variables that are not in control of media deptartment.\n",
    "\n",
    "The regression model will be fitted assuming postive only coefficients for covariates in `ctrl_data['positive_vars']`\n",
    "- Macro Economy\n",
    "- Markdown\n",
    "- Store Count\n",
    "- Retail Holidays\n",
    "\n",
    "For seasonal dummies coviarates in `ctrl_data['posneg_vars']`, negative coefficients are allowed\n",
    "- Seasonality\n",
    "\n",
    "Model is then used to predict `base_sales` that will be used as input to MMM model"
   ]
  },
  {
   "cell_type": "code",
   "execution_count": 1048,
   "metadata": {
    "ExecuteTime": {
     "end_time": "2021-06-03T16:26:57.199163Z",
     "start_time": "2021-06-03T16:26:57.190107Z"
    }
   },
   "outputs": [],
   "source": [
    "# get data for base model\n",
    "ctrl_data = dataset.get_base_model_data()"
   ]
  },
  {
   "cell_type": "code",
   "execution_count": 5,
   "metadata": {
    "ExecuteTime": {
     "end_time": "2021-06-03T11:22:39.600141Z",
     "start_time": "2021-06-03T11:22:34.503872Z"
    },
    "deletable": false,
    "editable": false,
    "run_control": {
     "frozen": true
    }
   },
   "outputs": [],
   "source": [
    "# init model\n",
    "base_model = PymcBaseModel(ctrl_data)"
   ]
  },
  {
   "cell_type": "code",
   "execution_count": 6,
   "metadata": {
    "ExecuteTime": {
     "end_time": "2021-06-03T11:25:23.724889Z",
     "start_time": "2021-06-03T11:22:57.145208Z"
    },
    "deletable": false,
    "editable": false,
    "run_control": {
     "frozen": true
    }
   },
   "outputs": [
    {
     "name": "stderr",
     "output_type": "stream",
     "text": [
      "Auto-assigning NUTS sampler...\n",
      "Initializing NUTS using jitter+adapt_diag...\n",
      "Multiprocess sampling (4 chains in 2 jobs)\n",
      "NUTS: [noise_var, alpha, beta2, beta1]\n"
     ]
    },
    {
     "data": {
      "text/html": [
       "\n",
       "    <div>\n",
       "        <style>\n",
       "            /* Turns off some styling */\n",
       "            progress {\n",
       "                /* gets rid of default border in Firefox and Opera. */\n",
       "                border: none;\n",
       "                /* Needs to be in here for Safari polyfill so background images work as expected. */\n",
       "                background-size: auto;\n",
       "            }\n",
       "            .progress-bar-interrupted, .progress-bar-interrupted::-webkit-progress-bar {\n",
       "                background: #F44336;\n",
       "            }\n",
       "        </style>\n",
       "      <progress value='12000' class='' max='12000' style='width:300px; height:20px; vertical-align: middle;'></progress>\n",
       "      100.00% [12000/12000 01:30<00:00 Sampling 4 chains, 3,957 divergences]\n",
       "    </div>\n",
       "    "
      ],
      "text/plain": [
       "<IPython.core.display.HTML object>"
      ]
     },
     "metadata": {},
     "output_type": "display_data"
    },
    {
     "name": "stderr",
     "output_type": "stream",
     "text": [
      "Sampling 4 chains for 1_000 tune and 2_000 draw iterations (4_000 + 8_000 draws total) took 121 seconds.\n",
      "There were 908 divergences after tuning. Increase `target_accept` or reparameterize.\n",
      "There were 1222 divergences after tuning. Increase `target_accept` or reparameterize.\n",
      "The acceptance probability does not match the target. It is 0.6048044157990623, but should be close to 0.8. Try to increase the number of tuning steps.\n",
      "There were 1001 divergences after tuning. Increase `target_accept` or reparameterize.\n",
      "The acceptance probability does not match the target. It is 0.6873617476216887, but should be close to 0.8. Try to increase the number of tuning steps.\n",
      "There were 826 divergences after tuning. Increase `target_accept` or reparameterize.\n",
      "The rhat statistic is larger than 1.05 for some parameters. This indicates slight problems during sampling.\n",
      "The estimated number of effective samples is smaller than 200 for some parameters.\n"
     ]
    },
    {
     "data": {
      "text/html": [
       "\n",
       "    <div>\n",
       "        <style>\n",
       "            /* Turns off some styling */\n",
       "            progress {\n",
       "                /* gets rid of default border in Firefox and Opera. */\n",
       "                border: none;\n",
       "                /* Needs to be in here for Safari polyfill so background images work as expected. */\n",
       "                background-size: auto;\n",
       "            }\n",
       "            .progress-bar-interrupted, .progress-bar-interrupted::-webkit-progress-bar {\n",
       "                background: #F44336;\n",
       "            }\n",
       "        </style>\n",
       "      <progress value='8000' class='' max='8000' style='width:300px; height:20px; vertical-align: middle;'></progress>\n",
       "      100.00% [8000/8000 00:12<00:00]\n",
       "    </div>\n",
       "    "
      ],
      "text/plain": [
       "<IPython.core.display.HTML object>"
      ]
     },
     "metadata": {},
     "output_type": "display_data"
    }
   ],
   "source": [
    "# montecarlo sampling\n",
    "base_model.sample()"
   ]
  },
  {
   "cell_type": "code",
   "execution_count": 9,
   "metadata": {
    "ExecuteTime": {
     "end_time": "2021-06-03T11:26:06.473751Z",
     "start_time": "2021-06-03T11:26:03.407947Z"
    },
    "deletable": false,
    "editable": false,
    "run_control": {
     "frozen": true
    },
    "scrolled": true
   },
   "outputs": [
    {
     "data": {
      "text/html": [
       "<div>\n",
       "<style scoped>\n",
       "    .dataframe tbody tr th:only-of-type {\n",
       "        vertical-align: middle;\n",
       "    }\n",
       "\n",
       "    .dataframe tbody tr th {\n",
       "        vertical-align: top;\n",
       "    }\n",
       "\n",
       "    .dataframe thead th {\n",
       "        text-align: right;\n",
       "    }\n",
       "</style>\n",
       "<table border=\"1\" class=\"dataframe\">\n",
       "  <thead>\n",
       "    <tr style=\"text-align: right;\">\n",
       "      <th></th>\n",
       "      <th>mean</th>\n",
       "      <th>sd</th>\n",
       "      <th>hdi_3%</th>\n",
       "      <th>hdi_97%</th>\n",
       "      <th>mcse_mean</th>\n",
       "      <th>mcse_sd</th>\n",
       "      <th>ess_mean</th>\n",
       "      <th>ess_sd</th>\n",
       "      <th>ess_bulk</th>\n",
       "      <th>ess_tail</th>\n",
       "      <th>r_hat</th>\n",
       "    </tr>\n",
       "  </thead>\n",
       "  <tbody>\n",
       "    <tr>\n",
       "      <th>me_ics_all</th>\n",
       "      <td>0.177</td>\n",
       "      <td>0.138</td>\n",
       "      <td>0.000</td>\n",
       "      <td>0.440</td>\n",
       "      <td>0.011</td>\n",
       "      <td>0.007</td>\n",
       "      <td>171.0</td>\n",
       "      <td>171.0</td>\n",
       "      <td>190.0</td>\n",
       "      <td>296.0</td>\n",
       "      <td>1.03</td>\n",
       "    </tr>\n",
       "    <tr>\n",
       "      <th>me_gas_dpg</th>\n",
       "      <td>0.133</td>\n",
       "      <td>0.104</td>\n",
       "      <td>0.001</td>\n",
       "      <td>0.318</td>\n",
       "      <td>0.006</td>\n",
       "      <td>0.005</td>\n",
       "      <td>287.0</td>\n",
       "      <td>256.0</td>\n",
       "      <td>312.0</td>\n",
       "      <td>475.0</td>\n",
       "      <td>1.01</td>\n",
       "    </tr>\n",
       "    <tr>\n",
       "      <th>st_ct</th>\n",
       "      <td>0.243</td>\n",
       "      <td>0.158</td>\n",
       "      <td>0.002</td>\n",
       "      <td>0.504</td>\n",
       "      <td>0.022</td>\n",
       "      <td>0.016</td>\n",
       "      <td>52.0</td>\n",
       "      <td>52.0</td>\n",
       "      <td>51.0</td>\n",
       "      <td>68.0</td>\n",
       "      <td>1.06</td>\n",
       "    </tr>\n",
       "    <tr>\n",
       "      <th>mrkdn_valadd_edw</th>\n",
       "      <td>0.076</td>\n",
       "      <td>0.059</td>\n",
       "      <td>0.001</td>\n",
       "      <td>0.182</td>\n",
       "      <td>0.006</td>\n",
       "      <td>0.004</td>\n",
       "      <td>89.0</td>\n",
       "      <td>89.0</td>\n",
       "      <td>83.0</td>\n",
       "      <td>172.0</td>\n",
       "      <td>1.04</td>\n",
       "    </tr>\n",
       "    <tr>\n",
       "      <th>mrkdn_pdm</th>\n",
       "      <td>0.309</td>\n",
       "      <td>0.185</td>\n",
       "      <td>0.007</td>\n",
       "      <td>0.618</td>\n",
       "      <td>0.018</td>\n",
       "      <td>0.014</td>\n",
       "      <td>104.0</td>\n",
       "      <td>89.0</td>\n",
       "      <td>99.0</td>\n",
       "      <td>83.0</td>\n",
       "      <td>1.04</td>\n",
       "    </tr>\n",
       "    <tr>\n",
       "      <th>hldy_Black Friday</th>\n",
       "      <td>0.549</td>\n",
       "      <td>0.386</td>\n",
       "      <td>0.000</td>\n",
       "      <td>1.235</td>\n",
       "      <td>0.017</td>\n",
       "      <td>0.012</td>\n",
       "      <td>486.0</td>\n",
       "      <td>486.0</td>\n",
       "      <td>381.0</td>\n",
       "      <td>261.0</td>\n",
       "      <td>1.01</td>\n",
       "    </tr>\n",
       "    <tr>\n",
       "      <th>hldy_Christmas Day</th>\n",
       "      <td>0.297</td>\n",
       "      <td>0.201</td>\n",
       "      <td>0.001</td>\n",
       "      <td>0.628</td>\n",
       "      <td>0.013</td>\n",
       "      <td>0.009</td>\n",
       "      <td>228.0</td>\n",
       "      <td>228.0</td>\n",
       "      <td>235.0</td>\n",
       "      <td>523.0</td>\n",
       "      <td>1.02</td>\n",
       "    </tr>\n",
       "    <tr>\n",
       "      <th>hldy_Christmas Eve</th>\n",
       "      <td>0.169</td>\n",
       "      <td>0.136</td>\n",
       "      <td>0.000</td>\n",
       "      <td>0.421</td>\n",
       "      <td>0.008</td>\n",
       "      <td>0.005</td>\n",
       "      <td>314.0</td>\n",
       "      <td>314.0</td>\n",
       "      <td>317.0</td>\n",
       "      <td>537.0</td>\n",
       "      <td>1.01</td>\n",
       "    </tr>\n",
       "    <tr>\n",
       "      <th>hldy_Columbus Day</th>\n",
       "      <td>0.154</td>\n",
       "      <td>0.125</td>\n",
       "      <td>0.001</td>\n",
       "      <td>0.386</td>\n",
       "      <td>0.009</td>\n",
       "      <td>0.006</td>\n",
       "      <td>201.0</td>\n",
       "      <td>201.0</td>\n",
       "      <td>147.0</td>\n",
       "      <td>105.0</td>\n",
       "      <td>1.04</td>\n",
       "    </tr>\n",
       "    <tr>\n",
       "      <th>hldy_Cyber Monday</th>\n",
       "      <td>0.791</td>\n",
       "      <td>0.512</td>\n",
       "      <td>0.000</td>\n",
       "      <td>1.672</td>\n",
       "      <td>0.038</td>\n",
       "      <td>0.027</td>\n",
       "      <td>181.0</td>\n",
       "      <td>181.0</td>\n",
       "      <td>142.0</td>\n",
       "      <td>69.0</td>\n",
       "      <td>1.04</td>\n",
       "    </tr>\n",
       "    <tr>\n",
       "      <th>hldy_Day after Christmas</th>\n",
       "      <td>0.271</td>\n",
       "      <td>0.198</td>\n",
       "      <td>0.000</td>\n",
       "      <td>0.621</td>\n",
       "      <td>0.013</td>\n",
       "      <td>0.009</td>\n",
       "      <td>242.0</td>\n",
       "      <td>242.0</td>\n",
       "      <td>262.0</td>\n",
       "      <td>493.0</td>\n",
       "      <td>1.02</td>\n",
       "    </tr>\n",
       "    <tr>\n",
       "      <th>hldy_Easter</th>\n",
       "      <td>0.059</td>\n",
       "      <td>0.054</td>\n",
       "      <td>0.000</td>\n",
       "      <td>0.160</td>\n",
       "      <td>0.003</td>\n",
       "      <td>0.002</td>\n",
       "      <td>367.0</td>\n",
       "      <td>367.0</td>\n",
       "      <td>220.0</td>\n",
       "      <td>119.0</td>\n",
       "      <td>1.01</td>\n",
       "    </tr>\n",
       "    <tr>\n",
       "      <th>hldy_Father's Day</th>\n",
       "      <td>0.157</td>\n",
       "      <td>0.108</td>\n",
       "      <td>0.000</td>\n",
       "      <td>0.344</td>\n",
       "      <td>0.006</td>\n",
       "      <td>0.004</td>\n",
       "      <td>293.0</td>\n",
       "      <td>293.0</td>\n",
       "      <td>272.0</td>\n",
       "      <td>262.0</td>\n",
       "      <td>1.02</td>\n",
       "    </tr>\n",
       "    <tr>\n",
       "      <th>hldy_Green Monday</th>\n",
       "      <td>0.085</td>\n",
       "      <td>0.079</td>\n",
       "      <td>0.000</td>\n",
       "      <td>0.228</td>\n",
       "      <td>0.003</td>\n",
       "      <td>0.002</td>\n",
       "      <td>591.0</td>\n",
       "      <td>591.0</td>\n",
       "      <td>348.0</td>\n",
       "      <td>412.0</td>\n",
       "      <td>1.01</td>\n",
       "    </tr>\n",
       "    <tr>\n",
       "      <th>hldy_July 4th</th>\n",
       "      <td>0.128</td>\n",
       "      <td>0.103</td>\n",
       "      <td>0.000</td>\n",
       "      <td>0.316</td>\n",
       "      <td>0.006</td>\n",
       "      <td>0.004</td>\n",
       "      <td>308.0</td>\n",
       "      <td>308.0</td>\n",
       "      <td>289.0</td>\n",
       "      <td>369.0</td>\n",
       "      <td>1.02</td>\n",
       "    </tr>\n",
       "    <tr>\n",
       "      <th>hldy_Labor Day</th>\n",
       "      <td>0.117</td>\n",
       "      <td>0.092</td>\n",
       "      <td>0.000</td>\n",
       "      <td>0.292</td>\n",
       "      <td>0.006</td>\n",
       "      <td>0.004</td>\n",
       "      <td>228.0</td>\n",
       "      <td>228.0</td>\n",
       "      <td>252.0</td>\n",
       "      <td>334.0</td>\n",
       "      <td>1.01</td>\n",
       "    </tr>\n",
       "    <tr>\n",
       "      <th>hldy_MLK</th>\n",
       "      <td>0.088</td>\n",
       "      <td>0.073</td>\n",
       "      <td>0.000</td>\n",
       "      <td>0.225</td>\n",
       "      <td>0.004</td>\n",
       "      <td>0.003</td>\n",
       "      <td>359.0</td>\n",
       "      <td>359.0</td>\n",
       "      <td>331.0</td>\n",
       "      <td>634.0</td>\n",
       "      <td>1.01</td>\n",
       "    </tr>\n",
       "    <tr>\n",
       "      <th>hldy_Memorial Day</th>\n",
       "      <td>0.275</td>\n",
       "      <td>0.146</td>\n",
       "      <td>0.023</td>\n",
       "      <td>0.532</td>\n",
       "      <td>0.009</td>\n",
       "      <td>0.007</td>\n",
       "      <td>240.0</td>\n",
       "      <td>240.0</td>\n",
       "      <td>237.0</td>\n",
       "      <td>576.0</td>\n",
       "      <td>1.02</td>\n",
       "    </tr>\n",
       "    <tr>\n",
       "      <th>hldy_Mother's Day</th>\n",
       "      <td>0.121</td>\n",
       "      <td>0.102</td>\n",
       "      <td>0.000</td>\n",
       "      <td>0.316</td>\n",
       "      <td>0.007</td>\n",
       "      <td>0.005</td>\n",
       "      <td>199.0</td>\n",
       "      <td>199.0</td>\n",
       "      <td>195.0</td>\n",
       "      <td>466.0</td>\n",
       "      <td>1.02</td>\n",
       "    </tr>\n",
       "    <tr>\n",
       "      <th>hldy_NYE</th>\n",
       "      <td>0.134</td>\n",
       "      <td>0.112</td>\n",
       "      <td>0.000</td>\n",
       "      <td>0.343</td>\n",
       "      <td>0.008</td>\n",
       "      <td>0.006</td>\n",
       "      <td>201.0</td>\n",
       "      <td>201.0</td>\n",
       "      <td>94.0</td>\n",
       "      <td>43.0</td>\n",
       "      <td>1.03</td>\n",
       "    </tr>\n",
       "    <tr>\n",
       "      <th>hldy_New Year's Day</th>\n",
       "      <td>0.268</td>\n",
       "      <td>0.156</td>\n",
       "      <td>0.002</td>\n",
       "      <td>0.539</td>\n",
       "      <td>0.007</td>\n",
       "      <td>0.005</td>\n",
       "      <td>445.0</td>\n",
       "      <td>445.0</td>\n",
       "      <td>468.0</td>\n",
       "      <td>818.0</td>\n",
       "      <td>1.01</td>\n",
       "    </tr>\n",
       "    <tr>\n",
       "      <th>hldy_Pre Thanksgiving</th>\n",
       "      <td>0.584</td>\n",
       "      <td>0.451</td>\n",
       "      <td>0.001</td>\n",
       "      <td>1.437</td>\n",
       "      <td>0.034</td>\n",
       "      <td>0.024</td>\n",
       "      <td>178.0</td>\n",
       "      <td>178.0</td>\n",
       "      <td>211.0</td>\n",
       "      <td>257.0</td>\n",
       "      <td>1.02</td>\n",
       "    </tr>\n",
       "    <tr>\n",
       "      <th>hldy_Presidents Day</th>\n",
       "      <td>0.237</td>\n",
       "      <td>0.133</td>\n",
       "      <td>0.005</td>\n",
       "      <td>0.461</td>\n",
       "      <td>0.008</td>\n",
       "      <td>0.006</td>\n",
       "      <td>258.0</td>\n",
       "      <td>258.0</td>\n",
       "      <td>212.0</td>\n",
       "      <td>109.0</td>\n",
       "      <td>1.03</td>\n",
       "    </tr>\n",
       "    <tr>\n",
       "      <th>hldy_Prime Day</th>\n",
       "      <td>0.215</td>\n",
       "      <td>0.132</td>\n",
       "      <td>0.001</td>\n",
       "      <td>0.441</td>\n",
       "      <td>0.008</td>\n",
       "      <td>0.006</td>\n",
       "      <td>252.0</td>\n",
       "      <td>252.0</td>\n",
       "      <td>263.0</td>\n",
       "      <td>770.0</td>\n",
       "      <td>1.01</td>\n",
       "    </tr>\n",
       "    <tr>\n",
       "      <th>hldy_Thanksgiving</th>\n",
       "      <td>0.509</td>\n",
       "      <td>0.405</td>\n",
       "      <td>0.001</td>\n",
       "      <td>1.287</td>\n",
       "      <td>0.028</td>\n",
       "      <td>0.020</td>\n",
       "      <td>208.0</td>\n",
       "      <td>208.0</td>\n",
       "      <td>233.0</td>\n",
       "      <td>587.0</td>\n",
       "      <td>1.02</td>\n",
       "    </tr>\n",
       "    <tr>\n",
       "      <th>hldy_Valentine's Day</th>\n",
       "      <td>0.170</td>\n",
       "      <td>0.115</td>\n",
       "      <td>0.001</td>\n",
       "      <td>0.382</td>\n",
       "      <td>0.005</td>\n",
       "      <td>0.004</td>\n",
       "      <td>541.0</td>\n",
       "      <td>541.0</td>\n",
       "      <td>547.0</td>\n",
       "      <td>889.0</td>\n",
       "      <td>1.01</td>\n",
       "    </tr>\n",
       "    <tr>\n",
       "      <th>hldy_Veterans Day</th>\n",
       "      <td>0.562</td>\n",
       "      <td>0.458</td>\n",
       "      <td>0.001</td>\n",
       "      <td>1.409</td>\n",
       "      <td>0.042</td>\n",
       "      <td>0.029</td>\n",
       "      <td>121.0</td>\n",
       "      <td>121.0</td>\n",
       "      <td>140.0</td>\n",
       "      <td>137.0</td>\n",
       "      <td>1.06</td>\n",
       "    </tr>\n",
       "    <tr>\n",
       "      <th>seas_prd_1</th>\n",
       "      <td>-0.393</td>\n",
       "      <td>0.200</td>\n",
       "      <td>-0.759</td>\n",
       "      <td>-0.012</td>\n",
       "      <td>0.022</td>\n",
       "      <td>0.018</td>\n",
       "      <td>80.0</td>\n",
       "      <td>60.0</td>\n",
       "      <td>77.0</td>\n",
       "      <td>34.0</td>\n",
       "      <td>1.05</td>\n",
       "    </tr>\n",
       "    <tr>\n",
       "      <th>seas_prd_2</th>\n",
       "      <td>-0.245</td>\n",
       "      <td>0.193</td>\n",
       "      <td>-0.652</td>\n",
       "      <td>0.076</td>\n",
       "      <td>0.023</td>\n",
       "      <td>0.022</td>\n",
       "      <td>71.0</td>\n",
       "      <td>38.0</td>\n",
       "      <td>69.0</td>\n",
       "      <td>22.0</td>\n",
       "      <td>1.06</td>\n",
       "    </tr>\n",
       "    <tr>\n",
       "      <th>seas_prd_3</th>\n",
       "      <td>-0.103</td>\n",
       "      <td>0.190</td>\n",
       "      <td>-0.456</td>\n",
       "      <td>0.242</td>\n",
       "      <td>0.022</td>\n",
       "      <td>0.021</td>\n",
       "      <td>76.0</td>\n",
       "      <td>40.0</td>\n",
       "      <td>70.0</td>\n",
       "      <td>27.0</td>\n",
       "      <td>1.06</td>\n",
       "    </tr>\n",
       "    <tr>\n",
       "      <th>seas_prd_4</th>\n",
       "      <td>-0.276</td>\n",
       "      <td>0.194</td>\n",
       "      <td>-0.682</td>\n",
       "      <td>0.063</td>\n",
       "      <td>0.023</td>\n",
       "      <td>0.022</td>\n",
       "      <td>74.0</td>\n",
       "      <td>38.0</td>\n",
       "      <td>74.0</td>\n",
       "      <td>44.0</td>\n",
       "      <td>1.06</td>\n",
       "    </tr>\n",
       "    <tr>\n",
       "      <th>seas_prd_5</th>\n",
       "      <td>-0.317</td>\n",
       "      <td>0.198</td>\n",
       "      <td>-0.711</td>\n",
       "      <td>0.058</td>\n",
       "      <td>0.025</td>\n",
       "      <td>0.022</td>\n",
       "      <td>65.0</td>\n",
       "      <td>40.0</td>\n",
       "      <td>65.0</td>\n",
       "      <td>23.0</td>\n",
       "      <td>1.07</td>\n",
       "    </tr>\n",
       "    <tr>\n",
       "      <th>seas_prd_6</th>\n",
       "      <td>-0.496</td>\n",
       "      <td>0.201</td>\n",
       "      <td>-0.851</td>\n",
       "      <td>-0.112</td>\n",
       "      <td>0.023</td>\n",
       "      <td>0.019</td>\n",
       "      <td>74.0</td>\n",
       "      <td>57.0</td>\n",
       "      <td>70.0</td>\n",
       "      <td>33.0</td>\n",
       "      <td>1.06</td>\n",
       "    </tr>\n",
       "    <tr>\n",
       "      <th>seas_prd_7</th>\n",
       "      <td>-0.268</td>\n",
       "      <td>0.191</td>\n",
       "      <td>-0.656</td>\n",
       "      <td>0.086</td>\n",
       "      <td>0.023</td>\n",
       "      <td>0.020</td>\n",
       "      <td>72.0</td>\n",
       "      <td>48.0</td>\n",
       "      <td>68.0</td>\n",
       "      <td>43.0</td>\n",
       "      <td>1.06</td>\n",
       "    </tr>\n",
       "    <tr>\n",
       "      <th>seas_prd_8</th>\n",
       "      <td>-0.255</td>\n",
       "      <td>0.200</td>\n",
       "      <td>-0.605</td>\n",
       "      <td>0.128</td>\n",
       "      <td>0.024</td>\n",
       "      <td>0.022</td>\n",
       "      <td>69.0</td>\n",
       "      <td>43.0</td>\n",
       "      <td>67.0</td>\n",
       "      <td>27.0</td>\n",
       "      <td>1.06</td>\n",
       "    </tr>\n",
       "    <tr>\n",
       "      <th>seas_prd_9</th>\n",
       "      <td>-0.285</td>\n",
       "      <td>0.196</td>\n",
       "      <td>-0.683</td>\n",
       "      <td>0.072</td>\n",
       "      <td>0.022</td>\n",
       "      <td>0.019</td>\n",
       "      <td>80.0</td>\n",
       "      <td>52.0</td>\n",
       "      <td>80.0</td>\n",
       "      <td>59.0</td>\n",
       "      <td>1.06</td>\n",
       "    </tr>\n",
       "    <tr>\n",
       "      <th>seas_prd_12</th>\n",
       "      <td>-0.421</td>\n",
       "      <td>0.195</td>\n",
       "      <td>-0.789</td>\n",
       "      <td>-0.078</td>\n",
       "      <td>0.022</td>\n",
       "      <td>0.019</td>\n",
       "      <td>77.0</td>\n",
       "      <td>56.0</td>\n",
       "      <td>73.0</td>\n",
       "      <td>40.0</td>\n",
       "      <td>1.06</td>\n",
       "    </tr>\n",
       "    <tr>\n",
       "      <th>seas_week_40</th>\n",
       "      <td>-0.301</td>\n",
       "      <td>0.231</td>\n",
       "      <td>-0.728</td>\n",
       "      <td>0.124</td>\n",
       "      <td>0.023</td>\n",
       "      <td>0.019</td>\n",
       "      <td>98.0</td>\n",
       "      <td>74.0</td>\n",
       "      <td>93.0</td>\n",
       "      <td>144.0</td>\n",
       "      <td>1.05</td>\n",
       "    </tr>\n",
       "    <tr>\n",
       "      <th>seas_week_41</th>\n",
       "      <td>-0.662</td>\n",
       "      <td>0.518</td>\n",
       "      <td>-1.846</td>\n",
       "      <td>0.106</td>\n",
       "      <td>0.062</td>\n",
       "      <td>0.051</td>\n",
       "      <td>71.0</td>\n",
       "      <td>52.0</td>\n",
       "      <td>109.0</td>\n",
       "      <td>37.0</td>\n",
       "      <td>1.07</td>\n",
       "    </tr>\n",
       "    <tr>\n",
       "      <th>seas_week_42</th>\n",
       "      <td>0.104</td>\n",
       "      <td>0.253</td>\n",
       "      <td>-0.436</td>\n",
       "      <td>0.524</td>\n",
       "      <td>0.028</td>\n",
       "      <td>0.020</td>\n",
       "      <td>82.0</td>\n",
       "      <td>82.0</td>\n",
       "      <td>82.0</td>\n",
       "      <td>44.0</td>\n",
       "      <td>1.04</td>\n",
       "    </tr>\n",
       "    <tr>\n",
       "      <th>seas_week_43</th>\n",
       "      <td>-0.823</td>\n",
       "      <td>0.621</td>\n",
       "      <td>-2.036</td>\n",
       "      <td>0.219</td>\n",
       "      <td>0.051</td>\n",
       "      <td>0.038</td>\n",
       "      <td>150.0</td>\n",
       "      <td>137.0</td>\n",
       "      <td>167.0</td>\n",
       "      <td>454.0</td>\n",
       "      <td>1.02</td>\n",
       "    </tr>\n",
       "    <tr>\n",
       "      <th>seas_week_44</th>\n",
       "      <td>0.279</td>\n",
       "      <td>0.537</td>\n",
       "      <td>-0.785</td>\n",
       "      <td>1.169</td>\n",
       "      <td>0.044</td>\n",
       "      <td>0.031</td>\n",
       "      <td>152.0</td>\n",
       "      <td>152.0</td>\n",
       "      <td>177.0</td>\n",
       "      <td>332.0</td>\n",
       "      <td>1.04</td>\n",
       "    </tr>\n",
       "    <tr>\n",
       "      <th>seas_week_45</th>\n",
       "      <td>0.651</td>\n",
       "      <td>0.232</td>\n",
       "      <td>0.244</td>\n",
       "      <td>1.121</td>\n",
       "      <td>0.020</td>\n",
       "      <td>0.014</td>\n",
       "      <td>130.0</td>\n",
       "      <td>130.0</td>\n",
       "      <td>126.0</td>\n",
       "      <td>105.0</td>\n",
       "      <td>1.04</td>\n",
       "    </tr>\n",
       "    <tr>\n",
       "      <th>seas_week_46</th>\n",
       "      <td>0.956</td>\n",
       "      <td>0.253</td>\n",
       "      <td>0.520</td>\n",
       "      <td>1.445</td>\n",
       "      <td>0.028</td>\n",
       "      <td>0.020</td>\n",
       "      <td>81.0</td>\n",
       "      <td>81.0</td>\n",
       "      <td>74.0</td>\n",
       "      <td>39.0</td>\n",
       "      <td>1.06</td>\n",
       "    </tr>\n",
       "    <tr>\n",
       "      <th>seas_week_47</th>\n",
       "      <td>1.117</td>\n",
       "      <td>0.262</td>\n",
       "      <td>0.629</td>\n",
       "      <td>1.587</td>\n",
       "      <td>0.033</td>\n",
       "      <td>0.024</td>\n",
       "      <td>62.0</td>\n",
       "      <td>62.0</td>\n",
       "      <td>61.0</td>\n",
       "      <td>137.0</td>\n",
       "      <td>1.06</td>\n",
       "    </tr>\n",
       "    <tr>\n",
       "      <th>seas_week_48</th>\n",
       "      <td>-0.541</td>\n",
       "      <td>0.286</td>\n",
       "      <td>-1.099</td>\n",
       "      <td>-0.051</td>\n",
       "      <td>0.026</td>\n",
       "      <td>0.020</td>\n",
       "      <td>122.0</td>\n",
       "      <td>106.0</td>\n",
       "      <td>129.0</td>\n",
       "      <td>267.0</td>\n",
       "      <td>1.02</td>\n",
       "    </tr>\n",
       "    <tr>\n",
       "      <th>max_intercept</th>\n",
       "      <td>0.187</td>\n",
       "      <td>0.108</td>\n",
       "      <td>0.000</td>\n",
       "      <td>0.371</td>\n",
       "      <td>0.006</td>\n",
       "      <td>0.004</td>\n",
       "      <td>357.0</td>\n",
       "      <td>357.0</td>\n",
       "      <td>382.0</td>\n",
       "      <td>676.0</td>\n",
       "      <td>1.02</td>\n",
       "    </tr>\n",
       "  </tbody>\n",
       "</table>\n",
       "</div>"
      ],
      "text/plain": [
       "                           mean     sd  hdi_3%  hdi_97%  mcse_mean  mcse_sd  \\\n",
       "me_ics_all                0.177  0.138   0.000    0.440      0.011    0.007   \n",
       "me_gas_dpg                0.133  0.104   0.001    0.318      0.006    0.005   \n",
       "st_ct                     0.243  0.158   0.002    0.504      0.022    0.016   \n",
       "mrkdn_valadd_edw          0.076  0.059   0.001    0.182      0.006    0.004   \n",
       "mrkdn_pdm                 0.309  0.185   0.007    0.618      0.018    0.014   \n",
       "hldy_Black Friday         0.549  0.386   0.000    1.235      0.017    0.012   \n",
       "hldy_Christmas Day        0.297  0.201   0.001    0.628      0.013    0.009   \n",
       "hldy_Christmas Eve        0.169  0.136   0.000    0.421      0.008    0.005   \n",
       "hldy_Columbus Day         0.154  0.125   0.001    0.386      0.009    0.006   \n",
       "hldy_Cyber Monday         0.791  0.512   0.000    1.672      0.038    0.027   \n",
       "hldy_Day after Christmas  0.271  0.198   0.000    0.621      0.013    0.009   \n",
       "hldy_Easter               0.059  0.054   0.000    0.160      0.003    0.002   \n",
       "hldy_Father's Day         0.157  0.108   0.000    0.344      0.006    0.004   \n",
       "hldy_Green Monday         0.085  0.079   0.000    0.228      0.003    0.002   \n",
       "hldy_July 4th             0.128  0.103   0.000    0.316      0.006    0.004   \n",
       "hldy_Labor Day            0.117  0.092   0.000    0.292      0.006    0.004   \n",
       "hldy_MLK                  0.088  0.073   0.000    0.225      0.004    0.003   \n",
       "hldy_Memorial Day         0.275  0.146   0.023    0.532      0.009    0.007   \n",
       "hldy_Mother's Day         0.121  0.102   0.000    0.316      0.007    0.005   \n",
       "hldy_NYE                  0.134  0.112   0.000    0.343      0.008    0.006   \n",
       "hldy_New Year's Day       0.268  0.156   0.002    0.539      0.007    0.005   \n",
       "hldy_Pre Thanksgiving     0.584  0.451   0.001    1.437      0.034    0.024   \n",
       "hldy_Presidents Day       0.237  0.133   0.005    0.461      0.008    0.006   \n",
       "hldy_Prime Day            0.215  0.132   0.001    0.441      0.008    0.006   \n",
       "hldy_Thanksgiving         0.509  0.405   0.001    1.287      0.028    0.020   \n",
       "hldy_Valentine's Day      0.170  0.115   0.001    0.382      0.005    0.004   \n",
       "hldy_Veterans Day         0.562  0.458   0.001    1.409      0.042    0.029   \n",
       "seas_prd_1               -0.393  0.200  -0.759   -0.012      0.022    0.018   \n",
       "seas_prd_2               -0.245  0.193  -0.652    0.076      0.023    0.022   \n",
       "seas_prd_3               -0.103  0.190  -0.456    0.242      0.022    0.021   \n",
       "seas_prd_4               -0.276  0.194  -0.682    0.063      0.023    0.022   \n",
       "seas_prd_5               -0.317  0.198  -0.711    0.058      0.025    0.022   \n",
       "seas_prd_6               -0.496  0.201  -0.851   -0.112      0.023    0.019   \n",
       "seas_prd_7               -0.268  0.191  -0.656    0.086      0.023    0.020   \n",
       "seas_prd_8               -0.255  0.200  -0.605    0.128      0.024    0.022   \n",
       "seas_prd_9               -0.285  0.196  -0.683    0.072      0.022    0.019   \n",
       "seas_prd_12              -0.421  0.195  -0.789   -0.078      0.022    0.019   \n",
       "seas_week_40             -0.301  0.231  -0.728    0.124      0.023    0.019   \n",
       "seas_week_41             -0.662  0.518  -1.846    0.106      0.062    0.051   \n",
       "seas_week_42              0.104  0.253  -0.436    0.524      0.028    0.020   \n",
       "seas_week_43             -0.823  0.621  -2.036    0.219      0.051    0.038   \n",
       "seas_week_44              0.279  0.537  -0.785    1.169      0.044    0.031   \n",
       "seas_week_45              0.651  0.232   0.244    1.121      0.020    0.014   \n",
       "seas_week_46              0.956  0.253   0.520    1.445      0.028    0.020   \n",
       "seas_week_47              1.117  0.262   0.629    1.587      0.033    0.024   \n",
       "seas_week_48             -0.541  0.286  -1.099   -0.051      0.026    0.020   \n",
       "max_intercept             0.187  0.108   0.000    0.371      0.006    0.004   \n",
       "\n",
       "                          ess_mean  ess_sd  ess_bulk  ess_tail  r_hat  \n",
       "me_ics_all                   171.0   171.0     190.0     296.0   1.03  \n",
       "me_gas_dpg                   287.0   256.0     312.0     475.0   1.01  \n",
       "st_ct                         52.0    52.0      51.0      68.0   1.06  \n",
       "mrkdn_valadd_edw              89.0    89.0      83.0     172.0   1.04  \n",
       "mrkdn_pdm                    104.0    89.0      99.0      83.0   1.04  \n",
       "hldy_Black Friday            486.0   486.0     381.0     261.0   1.01  \n",
       "hldy_Christmas Day           228.0   228.0     235.0     523.0   1.02  \n",
       "hldy_Christmas Eve           314.0   314.0     317.0     537.0   1.01  \n",
       "hldy_Columbus Day            201.0   201.0     147.0     105.0   1.04  \n",
       "hldy_Cyber Monday            181.0   181.0     142.0      69.0   1.04  \n",
       "hldy_Day after Christmas     242.0   242.0     262.0     493.0   1.02  \n",
       "hldy_Easter                  367.0   367.0     220.0     119.0   1.01  \n",
       "hldy_Father's Day            293.0   293.0     272.0     262.0   1.02  \n",
       "hldy_Green Monday            591.0   591.0     348.0     412.0   1.01  \n",
       "hldy_July 4th                308.0   308.0     289.0     369.0   1.02  \n",
       "hldy_Labor Day               228.0   228.0     252.0     334.0   1.01  \n",
       "hldy_MLK                     359.0   359.0     331.0     634.0   1.01  \n",
       "hldy_Memorial Day            240.0   240.0     237.0     576.0   1.02  \n",
       "hldy_Mother's Day            199.0   199.0     195.0     466.0   1.02  \n",
       "hldy_NYE                     201.0   201.0      94.0      43.0   1.03  \n",
       "hldy_New Year's Day          445.0   445.0     468.0     818.0   1.01  \n",
       "hldy_Pre Thanksgiving        178.0   178.0     211.0     257.0   1.02  \n",
       "hldy_Presidents Day          258.0   258.0     212.0     109.0   1.03  \n",
       "hldy_Prime Day               252.0   252.0     263.0     770.0   1.01  \n",
       "hldy_Thanksgiving            208.0   208.0     233.0     587.0   1.02  \n",
       "hldy_Valentine's Day         541.0   541.0     547.0     889.0   1.01  \n",
       "hldy_Veterans Day            121.0   121.0     140.0     137.0   1.06  \n",
       "seas_prd_1                    80.0    60.0      77.0      34.0   1.05  \n",
       "seas_prd_2                    71.0    38.0      69.0      22.0   1.06  \n",
       "seas_prd_3                    76.0    40.0      70.0      27.0   1.06  \n",
       "seas_prd_4                    74.0    38.0      74.0      44.0   1.06  \n",
       "seas_prd_5                    65.0    40.0      65.0      23.0   1.07  \n",
       "seas_prd_6                    74.0    57.0      70.0      33.0   1.06  \n",
       "seas_prd_7                    72.0    48.0      68.0      43.0   1.06  \n",
       "seas_prd_8                    69.0    43.0      67.0      27.0   1.06  \n",
       "seas_prd_9                    80.0    52.0      80.0      59.0   1.06  \n",
       "seas_prd_12                   77.0    56.0      73.0      40.0   1.06  \n",
       "seas_week_40                  98.0    74.0      93.0     144.0   1.05  \n",
       "seas_week_41                  71.0    52.0     109.0      37.0   1.07  \n",
       "seas_week_42                  82.0    82.0      82.0      44.0   1.04  \n",
       "seas_week_43                 150.0   137.0     167.0     454.0   1.02  \n",
       "seas_week_44                 152.0   152.0     177.0     332.0   1.04  \n",
       "seas_week_45                 130.0   130.0     126.0     105.0   1.04  \n",
       "seas_week_46                  81.0    81.0      74.0      39.0   1.06  \n",
       "seas_week_47                  62.0    62.0      61.0     137.0   1.06  \n",
       "seas_week_48                 122.0   106.0     129.0     267.0   1.02  \n",
       "max_intercept                357.0   357.0     382.0     676.0   1.02  "
      ]
     },
     "execution_count": 9,
     "metadata": {},
     "output_type": "execute_result"
    }
   ],
   "source": [
    "# display regression coefficients\n",
    "base_model.get_regression_coefficients()"
   ]
  },
  {
   "cell_type": "code",
   "execution_count": null,
   "metadata": {
    "deletable": false,
    "editable": false,
    "run_control": {
     "frozen": true
    }
   },
   "outputs": [],
   "source": [
    "# checkpoint model\n",
    "import pickle\n",
    "\n",
    "with open('base_model.pkl', 'wb') as f:\n",
    "    pickle.dump(base_model, f)"
   ]
  },
  {
   "cell_type": "code",
   "execution_count": 1049,
   "metadata": {
    "ExecuteTime": {
     "end_time": "2021-06-03T16:26:58.093789Z",
     "start_time": "2021-06-03T16:26:57.203294Z"
    }
   },
   "outputs": [],
   "source": [
    "# use checkpointed model\n",
    "import pickle\n",
    "\n",
    "with open('base_model.pkl', 'rb') as f:\n",
    "    base_model = pickle.load(f)"
   ]
  },
  {
   "cell_type": "code",
   "execution_count": 1050,
   "metadata": {
    "ExecuteTime": {
     "end_time": "2021-06-03T16:26:58.104893Z",
     "start_time": "2021-06-03T16:26:58.097179Z"
    }
   },
   "outputs": [],
   "source": [
    "# save baseline predictions into dataset\n",
    "dataset.set_baseline_df(base_model.get_baseline_sales())"
   ]
  },
  {
   "cell_type": "code",
   "execution_count": 1051,
   "metadata": {
    "ExecuteTime": {
     "end_time": "2021-06-03T16:26:58.445172Z",
     "start_time": "2021-06-03T16:26:58.108763Z"
    }
   },
   "outputs": [
    {
     "data": {
      "image/png": "[encoded data removed]",
      "text/plain": [
       "<Figure size 1080x720 with 1 Axes>"
      ]
     },
     "metadata": {
      "needs_background": "light"
     },
     "output_type": "display_data"
    }
   ],
   "source": [
    "# plot target vs. baseline\n",
    "pd.concat([dataset.target_df, dataset.baseline_df], axis = 1).plot();\n",
    "plt.title('Actual Sales vs. Baseline Sales');"
   ]
  },
  {
   "cell_type": "markdown",
   "metadata": {},
   "source": [
    "# Marketing Mix Model\n",
    "Fit MMM regression model\n",
    "\n",
    "Notes:\n",
    "- media impression variables are adstock transformed\n",
    "- adstock transformation parameters (decay and peak) are fitted per each media channel \n",
    "- model is multiplicative, capturing interactions among channels\n",
    "\n",
    "Output of model is, **`per each media channel`** the set of parameters:\n",
    "\n",
    "- `lags` = predefined, equal to 8 for all channels\n",
    "- `peak` = fitted, used as input for adstock for transformation\n",
    "- `decay` = fitted, used as input for adstock for transformation\n",
    "- `beta` = fitted, used as coefficient in the multiplicative regression formula\n",
    "\n",
    "On top of the above parameters, the model fits the following params:\n",
    "- `beta_base` = the coefficient in the the multiplicative regression formula for the covariate `base_sales` output of base model \n",
    "- `tau` = the intercept in the multiplicative regression formula"
   ]
  },
  {
   "cell_type": "code",
   "execution_count": 1052,
   "metadata": {
    "ExecuteTime": {
     "end_time": "2021-06-03T16:26:58.453442Z",
     "start_time": "2021-06-03T16:26:58.448689Z"
    }
   },
   "outputs": [],
   "source": [
    "import pystan"
   ]
  },
  {
   "cell_type": "code",
   "execution_count": 1053,
   "metadata": {
    "ExecuteTime": {
     "end_time": "2021-06-03T16:26:58.472980Z",
     "start_time": "2021-06-03T16:26:58.459581Z"
    }
   },
   "outputs": [],
   "source": [
    "# prepare data for stan mmm model\n",
    "mmm_data = dataset.get_mmm_model_data()"
   ]
  },
  {
   "cell_type": "code",
   "execution_count": 10,
   "metadata": {
    "ExecuteTime": {
     "end_time": "2021-06-03T12:28:40.396292Z",
     "start_time": "2021-06-03T12:26:29.806806Z"
    },
    "deletable": false,
    "editable": false,
    "run_control": {
     "frozen": true
    },
    "scrolled": true
   },
   "outputs": [
    {
     "name": "stderr",
     "output_type": "stream",
     "text": [
      "INFO:pystan:COMPILING THE C++ CODE FOR MODEL anon_model_cb9bce202d5983598713eebb4162d560 NOW.\n",
      "INFO:pystan:OS: win32, Python: 3.8.5 (default, Sep  3 2020, 21:29:08) [MSC v.1916 64 bit (AMD64)], Cython 0.29.17\n"
     ]
    },
    {
     "name": "stdout",
     "output_type": "stream",
     "text": [
      "Compiling C:\\Users\\MARCO~1.SCA\\AppData\\Local\\Temp\\pystan_p0qaui2f\\stanfit4anon_model_cb9bce202d5983598713eebb4162d560_4427251619801455933.pyx because it changed.\n",
      "[1/1] Cythonizing C:\\Users\\MARCO~1.SCA\\AppData\\Local\\Temp\\pystan_p0qaui2f\\stanfit4anon_model_cb9bce202d5983598713eebb4162d560_4427251619801455933.pyx\n",
      "building 'stanfit4anon_model_cb9bce202d5983598713eebb4162d560_4427251619801455933' extension\n",
      "C compiler: gcc -g -DDEBUG -DMS_WIN64 -O0 -Wall -Wstrict-prototypes\n",
      "\n",
      "creating C:\\Users\\MARCO~1.SCA\\AppData\\Local\\Temp\\pystan_p0qaui2f\\users\n",
      "creating C:\\Users\\MARCO~1.SCA\\AppData\\Local\\Temp\\pystan_p0qaui2f\\users\\marco~1.sca\n",
      "creating C:\\Users\\MARCO~1.SCA\\AppData\\Local\\Temp\\pystan_p0qaui2f\\users\\marco~1.sca\\appdata\n",
      "creating C:\\Users\\MARCO~1.SCA\\AppData\\Local\\Temp\\pystan_p0qaui2f\\users\\marco~1.sca\\appdata\\local\n",
      "creating C:\\Users\\MARCO~1.SCA\\AppData\\Local\\Temp\\pystan_p0qaui2f\\users\\marco~1.sca\\appdata\\local\\temp\n",
      "creating C:\\Users\\MARCO~1.SCA\\AppData\\Local\\Temp\\pystan_p0qaui2f\\users\\marco~1.sca\\appdata\\local\\temp\\pystan_p0qaui2f\n",
      "compile options: '-DBOOST_RESULT_OF_USE_TR1 -DBOOST_NO_DECLTYPE -DBOOST_DISABLE_ASSERTS -D__MSVCRT_VERSION__=0x1916 -IC:\\Users\\MARCO~1.SCA\\AppData\\Local\\Temp\\pystan_p0qaui2f -IC:\\anaconda\\envs\\pyspark\\lib\\site-packages\\pystan -IC:\\anaconda\\envs\\pyspark\\lib\\site-packages\\pystan\\stan\\src -IC:\\anaconda\\envs\\pyspark\\lib\\site-packages\\pystan\\stan\\lib\\stan_math -IC:\\anaconda\\envs\\pyspark\\lib\\site-packages\\pystan\\stan\\lib\\stan_math\\lib\\eigen_3.3.3 -IC:\\anaconda\\envs\\pyspark\\lib\\site-packages\\pystan\\stan\\lib\\stan_math\\lib\\boost_1.69.0 -IC:\\anaconda\\envs\\pyspark\\lib\\site-packages\\pystan\\stan\\lib\\stan_math\\lib\\sundials_4.1.0\\include -IC:\\anaconda\\envs\\pyspark\\lib\\site-packages\\numpy\\core\\include -IC:\\anaconda\\envs\\pyspark\\include -IC:\\anaconda\\envs\\pyspark\\include -c'\n",
      "extra options: '-O2 -ftemplate-depth-256 -Wno-unused-function -Wno-uninitialized -std=c++1y -D_hypot=hypot -pthread -fexceptions'\n",
      "gcc -g -DDEBUG -DMS_WIN64 -O0 -Wall -Wstrict-prototypes -DBOOST_RESULT_OF_USE_TR1 -DBOOST_NO_DECLTYPE -DBOOST_DISABLE_ASSERTS -D__MSVCRT_VERSION__=0x1916 -IC:\\Users\\MARCO~1.SCA\\AppData\\Local\\Temp\\pystan_p0qaui2f -IC:\\anaconda\\envs\\pyspark\\lib\\site-packages\\pystan -IC:\\anaconda\\envs\\pyspark\\lib\\site-packages\\pystan\\stan\\src -IC:\\anaconda\\envs\\pyspark\\lib\\site-packages\\pystan\\stan\\lib\\stan_math -IC:\\anaconda\\envs\\pyspark\\lib\\site-packages\\pystan\\stan\\lib\\stan_math\\lib\\eigen_3.3.3 -IC:\\anaconda\\envs\\pyspark\\lib\\site-packages\\pystan\\stan\\lib\\stan_math\\lib\\boost_1.69.0 -IC:\\anaconda\\envs\\pyspark\\lib\\site-packages\\pystan\\stan\\lib\\stan_math\\lib\\sundials_4.1.0\\include -IC:\\anaconda\\envs\\pyspark\\lib\\site-packages\\numpy\\core\\include -IC:\\anaconda\\envs\\pyspark\\include -IC:\\anaconda\\envs\\pyspark\\include -c C:\\Users\\MARCO~1.SCA\\AppData\\Local\\Temp\\pystan_p0qaui2f\\stanfit4anon_model_cb9bce202d5983598713eebb4162d560_4427251619801455933.cpp -o C:\\Users\\MARCO~1.SCA\\AppData\\Local\\Temp\\pystan_p0qaui2f\\users\\marco~1.sca\\appdata\\local\\temp\\pystan_p0qaui2f\\stanfit4anon_model_cb9bce202d5983598713eebb4162d560_4427251619801455933.o -O2 -ftemplate-depth-256 -Wno-unused-function -Wno-uninitialized -std=c++1y -D_hypot=hypot -pthread -fexceptions\n",
      "g++ -g -shared C:\\Users\\MARCO~1.SCA\\AppData\\Local\\Temp\\pystan_p0qaui2f\\users\\marco~1.sca\\appdata\\local\\temp\\pystan_p0qaui2f\\stanfit4anon_model_cb9bce202d5983598713eebb4162d560_4427251619801455933.o -LC:\\anaconda\\envs\\pyspark\\libs -LC:\\anaconda\\envs\\pyspark\\PCbuild\\amd64 -lpython38 -o C:\\Users\\MARCO~1.SCA\\AppData\\Local\\Temp\\pystan_p0qaui2f\\stanfit4anon_model_cb9bce202d5983598713eebb4162d560_4427251619801455933.cp38-win_amd64.pyd\n"
     ]
    }
   ],
   "source": [
    "# init model\n",
    "mmm_model = PystanMmmModel(mmm_data)"
   ]
  },
  {
   "cell_type": "code",
   "execution_count": 11,
   "metadata": {
    "ExecuteTime": {
     "end_time": "2021-06-03T13:04:38.224685Z",
     "start_time": "2021-06-03T12:28:40.399256Z"
    },
    "deletable": false,
    "editable": false,
    "run_control": {
     "frozen": true
    }
   },
   "outputs": [
    {
     "name": "stderr",
     "output_type": "stream",
     "text": [
      "WARNING:pystan:Maximum (flat) parameter count (1000) exceeded: skipping diagnostic tests for n_eff and Rhat.\n",
      "To run all diagnostics call pystan.check_hmc_diagnostics(fit)\n"
     ]
    }
   ],
   "source": [
    "# montecarlo sampling\n",
    "mmm_model.sample()"
   ]
  },
  {
   "cell_type": "code",
   "execution_count": 12,
   "metadata": {
    "ExecuteTime": {
     "end_time": "2021-06-03T13:04:41.652187Z",
     "start_time": "2021-06-03T13:04:38.228224Z"
    },
    "deletable": false,
    "editable": false,
    "run_control": {
     "frozen": true
    }
   },
   "outputs": [
    {
     "data": {
      "image/png": "[encoded data removed]",
      "text/plain": [
       "<Figure size 1080x648 with 13 Axes>"
      ]
     },
     "metadata": {
      "needs_background": "light"
     },
     "output_type": "display_data"
    }
   ],
   "source": [
    "# display betas\n",
    "mmm_model.plot_betas()"
   ]
  },
  {
   "cell_type": "code",
   "execution_count": 13,
   "metadata": {
    "ExecuteTime": {
     "end_time": "2021-06-03T13:04:41.663273Z",
     "start_time": "2021-06-03T13:04:41.656185Z"
    },
    "deletable": false,
    "editable": false,
    "run_control": {
     "frozen": true
    }
   },
   "outputs": [],
   "source": [
    "# save export results\n",
    "mmm_results = mmm_model.get_results()"
   ]
  },
  {
   "cell_type": "code",
   "execution_count": 14,
   "metadata": {
    "ExecuteTime": {
     "end_time": "2021-06-03T13:04:41.685308Z",
     "start_time": "2021-06-03T13:04:41.666842Z"
    },
    "deletable": false,
    "editable": false,
    "run_control": {
     "frozen": true
    }
   },
   "outputs": [],
   "source": [
    "# checkpoint results\n",
    "import pickle\n",
    "\n",
    "with open('mmm_results.pkl', 'wb') as f:\n",
    "    pickle.dump(mmm_results, f)"
   ]
  },
  {
   "cell_type": "code",
   "execution_count": 1054,
   "metadata": {
    "ExecuteTime": {
     "end_time": "2021-06-03T16:26:58.493993Z",
     "start_time": "2021-06-03T16:26:58.478958Z"
    }
   },
   "outputs": [],
   "source": [
    "# use checkpointed results\n",
    "import pickle\n",
    "\n",
    "with open('mmm_results.pkl', 'rb') as f:\n",
    "    mmm_results = pickle.load(f)"
   ]
  },
  {
   "cell_type": "code",
   "execution_count": 1055,
   "metadata": {
    "ExecuteTime": {
     "end_time": "2021-06-03T16:26:58.508820Z",
     "start_time": "2021-06-03T16:26:58.499958Z"
    }
   },
   "outputs": [],
   "source": [
    "# save mmm results into dataset\n",
    "dataset.set_adstock_params(mmm_results)"
   ]
  },
  {
   "cell_type": "code",
   "execution_count": 1056,
   "metadata": {
    "ExecuteTime": {
     "end_time": "2021-06-03T16:26:58.633824Z",
     "start_time": "2021-06-03T16:26:58.512135Z"
    }
   },
   "outputs": [],
   "source": [
    "# get percentage contribution to sales and incremental percentage contribution\n",
    "perc_contrib, perc_contrib_incr = dataset.get_chn_percent_contrib()"
   ]
  },
  {
   "cell_type": "code",
   "execution_count": 1057,
   "metadata": {
    "ExecuteTime": {
     "end_time": "2021-06-03T16:26:58.647821Z",
     "start_time": "2021-06-03T16:26:58.636823Z"
    }
   },
   "outputs": [
    {
     "data": {
      "text/plain": [
       "dm            0.030025\n",
       "inst          0.013550\n",
       "nsp           0.002659\n",
       "auddig        0.014518\n",
       "audtr         0.008811\n",
       "vidtr         0.018014\n",
       "viddig        0.011294\n",
       "so            0.012514\n",
       "on            0.021014\n",
       "em            0.025111\n",
       "sms           0.022208\n",
       "aff           0.022455\n",
       "sem           0.056911\n",
       "y_baseline    0.740917\n",
       "dtype: float64"
      ]
     },
     "execution_count": 1057,
     "metadata": {},
     "output_type": "execute_result"
    }
   ],
   "source": [
    "perc_contrib"
   ]
  },
  {
   "cell_type": "code",
   "execution_count": 1058,
   "metadata": {
    "ExecuteTime": {
     "end_time": "2021-06-03T16:26:58.662901Z",
     "start_time": "2021-06-03T16:26:58.651067Z"
    }
   },
   "outputs": [
    {
     "data": {
      "text/plain": [
       "dm        0.115891\n",
       "inst      0.052301\n",
       "nsp       0.010263\n",
       "auddig    0.056034\n",
       "audtr     0.034006\n",
       "vidtr     0.069528\n",
       "viddig    0.043592\n",
       "so        0.048302\n",
       "on        0.081110\n",
       "em        0.096923\n",
       "sms       0.085717\n",
       "aff       0.086671\n",
       "sem       0.219661\n",
       "dtype: float64"
      ]
     },
     "execution_count": 1058,
     "metadata": {},
     "output_type": "execute_result"
    }
   ],
   "source": [
    "perc_contrib_incr"
   ]
  },
  {
   "cell_type": "markdown",
   "metadata": {},
   "source": [
    "# Hill models"
   ]
  },
  {
   "cell_type": "code",
   "execution_count": null,
   "metadata": {
    "ExecuteTime": {
     "end_time": "2021-06-03T16:33:41.064011Z",
     "start_time": "2021-06-03T16:28:12.016126Z"
    }
   },
   "outputs": [],
   "source": [
    "hill_coeffs = {}\n",
    "\n",
    "for d in dataset.get_hill_model_data():\n",
    "    \n",
    "    print('Fitting data for channel: ' + d['media_chn_name'])\n",
    "    if d['media_chn_name'] != 'so':\n",
    "        hill_model = PymcHillModel(d)\n",
    "        hill_model.sample()\n",
    "        coeffs = hill_model.get_hill_coefficients()\n",
    "        hill_coeffs.update(coeffs)\n",
    "    else:\n",
    "        print('skipping so')"
   ]
  },
  {
   "cell_type": "code",
   "execution_count": null,
   "metadata": {},
   "outputs": [],
   "source": [
    "# checkpoint results\n",
    "import pickle\n",
    "\n",
    "with open('hill_results.pkl', 'wb') as f:\n",
    "    pickle.dump(hill_coeffs, f)"
   ]
  },
  {
   "cell_type": "code",
   "execution_count": null,
   "metadata": {},
   "outputs": [],
   "source": [
    "# use checkpointed results\n",
    "import pickle\n",
    "\n",
    "with open('hill_results.pkl', 'rb') as f:\n",
    "    hill_coeffs = pickle.load(f)"
   ]
  },
  {
   "cell_type": "code",
   "execution_count": 1059,
   "metadata": {
    "ExecuteTime": {
     "end_time": "2021-06-03T16:33:41.064011Z",
     "start_time": "2021-06-03T16:28:12.016126Z"
    },
    "scrolled": true
   },
   "outputs": [
    {
     "name": "stdout",
     "output_type": "stream",
     "text": [
      "Fitting data for channel: on\n"
     ]
    },
    {
     "name": "stderr",
     "output_type": "stream",
     "text": [
      "Auto-assigning NUTS sampler...\n",
      "INFO:pymc3:Auto-assigning NUTS sampler...\n",
      "Initializing NUTS using jitter+adapt_diag...\n",
      "INFO:pymc3:Initializing NUTS using jitter+adapt_diag...\n",
      "Multiprocess sampling (4 chains in 2 jobs)\n",
      "INFO:pymc3:Multiprocess sampling (4 chains in 2 jobs)\n",
      "NUTS: [noise_var, beta, ec, slope]\n",
      "INFO:pymc3:NUTS: [noise_var, beta, ec, slope]\n"
     ]
    },
    {
     "data": {
      "text/html": [
       "\n",
       "    <div>\n",
       "        <style>\n",
       "            /* Turns off some styling */\n",
       "            progress {\n",
       "                /* gets rid of default border in Firefox and Opera. */\n",
       "                border: none;\n",
       "                /* Needs to be in here for Safari polyfill so background images work as expected. */\n",
       "                background-size: auto;\n",
       "            }\n",
       "            .progress-bar-interrupted, .progress-bar-interrupted::-webkit-progress-bar {\n",
       "                background: #F44336;\n",
       "            }\n",
       "        </style>\n",
       "      <progress value='12000' class='' max='12000' style='width:300px; height:20px; vertical-align: middle;'></progress>\n",
       "      100.00% [12000/12000 00:31<00:00 Sampling 4 chains, 3 divergences]\n",
       "    </div>\n",
       "    "
      ],
      "text/plain": [
       "<IPython.core.display.HTML object>"
      ]
     },
     "metadata": {},
     "output_type": "display_data"
    },
    {
     "name": "stderr",
     "output_type": "stream",
     "text": [
      "Sampling 4 chains for 1_000 tune and 2_000 draw iterations (4_000 + 8_000 draws total) took 72 seconds.\n",
      "INFO:pymc3:Sampling 4 chains for 1_000 tune and 2_000 draw iterations (4_000 + 8_000 draws total) took 72 seconds.\n",
      "There were 3 divergences after tuning. Increase `target_accept` or reparameterize.\n",
      "ERROR:pymc3:There were 3 divergences after tuning. Increase `target_accept` or reparameterize.\n"
     ]
    },
    {
     "data": {
      "text/html": [
       "\n",
       "    <div>\n",
       "        <style>\n",
       "            /* Turns off some styling */\n",
       "            progress {\n",
       "                /* gets rid of default border in Firefox and Opera. */\n",
       "                border: none;\n",
       "                /* Needs to be in here for Safari polyfill so background images work as expected. */\n",
       "                background-size: auto;\n",
       "            }\n",
       "            .progress-bar-interrupted, .progress-bar-interrupted::-webkit-progress-bar {\n",
       "                background: #F44336;\n",
       "            }\n",
       "        </style>\n",
       "      <progress value='8000' class='' max='8000' style='width:300px; height:20px; vertical-align: middle;'></progress>\n",
       "      100.00% [8000/8000 00:16<00:00]\n",
       "    </div>\n",
       "    "
      ],
      "text/plain": [
       "<IPython.core.display.HTML object>"
      ]
     },
     "metadata": {},
     "output_type": "display_data"
    },
    {
     "name": "stdout",
     "output_type": "stream",
     "text": [
      "Fitting data for channel: audtr\n"
     ]
    },
    {
     "name": "stderr",
     "output_type": "stream",
     "text": [
      "INFO:filelock:Lock 2307220250384 acquired on C:\\Users\\marco.scattolin\\AppData\\Local\\Theano\\compiledir_Windows-10-10.0.18362-SP0-Intel64_Family_6_Model_78_Stepping_3_GenuineIntel-3.8.5-64\\.lock\n",
      "INFO:filelock:Lock 2307220250384 released on C:\\Users\\marco.scattolin\\AppData\\Local\\Theano\\compiledir_Windows-10-10.0.18362-SP0-Intel64_Family_6_Model_78_Stepping_3_GenuineIntel-3.8.5-64\\.lock\n",
      "INFO:filelock:Lock 2307174491568 acquired on C:\\Users\\marco.scattolin\\AppData\\Local\\Theano\\compiledir_Windows-10-10.0.18362-SP0-Intel64_Family_6_Model_78_Stepping_3_GenuineIntel-3.8.5-64\\.lock\n",
      "INFO:filelock:Lock 2307174491568 released on C:\\Users\\marco.scattolin\\AppData\\Local\\Theano\\compiledir_Windows-10-10.0.18362-SP0-Intel64_Family_6_Model_78_Stepping_3_GenuineIntel-3.8.5-64\\.lock\n",
      "INFO:filelock:Lock 2307269152384 acquired on C:\\Users\\marco.scattolin\\AppData\\Local\\Theano\\compiledir_Windows-10-10.0.18362-SP0-Intel64_Family_6_Model_78_Stepping_3_GenuineIntel-3.8.5-64\\.lock\n",
      "INFO:filelock:Lock 2307269152384 released on C:\\Users\\marco.scattolin\\AppData\\Local\\Theano\\compiledir_Windows-10-10.0.18362-SP0-Intel64_Family_6_Model_78_Stepping_3_GenuineIntel-3.8.5-64\\.lock\n",
      "INFO:filelock:Lock 2307301320976 acquired on C:\\Users\\marco.scattolin\\AppData\\Local\\Theano\\compiledir_Windows-10-10.0.18362-SP0-Intel64_Family_6_Model_78_Stepping_3_GenuineIntel-3.8.5-64\\.lock\n",
      "INFO:filelock:Lock 2307301320976 released on C:\\Users\\marco.scattolin\\AppData\\Local\\Theano\\compiledir_Windows-10-10.0.18362-SP0-Intel64_Family_6_Model_78_Stepping_3_GenuineIntel-3.8.5-64\\.lock\n",
      "INFO:filelock:Lock 2307124949344 acquired on C:\\Users\\marco.scattolin\\AppData\\Local\\Theano\\compiledir_Windows-10-10.0.18362-SP0-Intel64_Family_6_Model_78_Stepping_3_GenuineIntel-3.8.5-64\\.lock\n",
      "INFO:filelock:Lock 2307124949344 released on C:\\Users\\marco.scattolin\\AppData\\Local\\Theano\\compiledir_Windows-10-10.0.18362-SP0-Intel64_Family_6_Model_78_Stepping_3_GenuineIntel-3.8.5-64\\.lock\n",
      "Auto-assigning NUTS sampler...\n",
      "INFO:pymc3:Auto-assigning NUTS sampler...\n",
      "Initializing NUTS using jitter+adapt_diag...\n",
      "INFO:pymc3:Initializing NUTS using jitter+adapt_diag...\n",
      "INFO:filelock:Lock 2307117505792 acquired on C:\\Users\\marco.scattolin\\AppData\\Local\\Theano\\compiledir_Windows-10-10.0.18362-SP0-Intel64_Family_6_Model_78_Stepping_3_GenuineIntel-3.8.5-64\\.lock\n",
      "INFO:filelock:Lock 2307117505792 released on C:\\Users\\marco.scattolin\\AppData\\Local\\Theano\\compiledir_Windows-10-10.0.18362-SP0-Intel64_Family_6_Model_78_Stepping_3_GenuineIntel-3.8.5-64\\.lock\n",
      "INFO:filelock:Lock 2307098502576 acquired on C:\\Users\\marco.scattolin\\AppData\\Local\\Theano\\compiledir_Windows-10-10.0.18362-SP0-Intel64_Family_6_Model_78_Stepping_3_GenuineIntel-3.8.5-64\\.lock\n",
      "INFO:filelock:Lock 2307098502576 released on C:\\Users\\marco.scattolin\\AppData\\Local\\Theano\\compiledir_Windows-10-10.0.18362-SP0-Intel64_Family_6_Model_78_Stepping_3_GenuineIntel-3.8.5-64\\.lock\n",
      "INFO:filelock:Lock 2307223505456 acquired on C:\\Users\\marco.scattolin\\AppData\\Local\\Theano\\compiledir_Windows-10-10.0.18362-SP0-Intel64_Family_6_Model_78_Stepping_3_GenuineIntel-3.8.5-64\\.lock\n",
      "INFO:filelock:Lock 2307223505456 released on C:\\Users\\marco.scattolin\\AppData\\Local\\Theano\\compiledir_Windows-10-10.0.18362-SP0-Intel64_Family_6_Model_78_Stepping_3_GenuineIntel-3.8.5-64\\.lock\n",
      "INFO:filelock:Lock 2307084483264 acquired on C:\\Users\\marco.scattolin\\AppData\\Local\\Theano\\compiledir_Windows-10-10.0.18362-SP0-Intel64_Family_6_Model_78_Stepping_3_GenuineIntel-3.8.5-64\\.lock\n",
      "INFO:filelock:Lock 2307084483264 released on C:\\Users\\marco.scattolin\\AppData\\Local\\Theano\\compiledir_Windows-10-10.0.18362-SP0-Intel64_Family_6_Model_78_Stepping_3_GenuineIntel-3.8.5-64\\.lock\n",
      "INFO:filelock:Lock 2307147355904 acquired on C:\\Users\\marco.scattolin\\AppData\\Local\\Theano\\compiledir_Windows-10-10.0.18362-SP0-Intel64_Family_6_Model_78_Stepping_3_GenuineIntel-3.8.5-64\\.lock\n",
      "INFO:filelock:Lock 2307147355904 released on C:\\Users\\marco.scattolin\\AppData\\Local\\Theano\\compiledir_Windows-10-10.0.18362-SP0-Intel64_Family_6_Model_78_Stepping_3_GenuineIntel-3.8.5-64\\.lock\n",
      "INFO:filelock:Lock 2307283152368 acquired on C:\\Users\\marco.scattolin\\AppData\\Local\\Theano\\compiledir_Windows-10-10.0.18362-SP0-Intel64_Family_6_Model_78_Stepping_3_GenuineIntel-3.8.5-64\\.lock\n",
      "INFO:filelock:Lock 2307283152368 released on C:\\Users\\marco.scattolin\\AppData\\Local\\Theano\\compiledir_Windows-10-10.0.18362-SP0-Intel64_Family_6_Model_78_Stepping_3_GenuineIntel-3.8.5-64\\.lock\n",
      "Multiprocess sampling (4 chains in 2 jobs)\n",
      "INFO:pymc3:Multiprocess sampling (4 chains in 2 jobs)\n",
      "NUTS: [noise_var, beta, ec, slope]\n",
      "INFO:pymc3:NUTS: [noise_var, beta, ec, slope]\n"
     ]
    },
    {
     "data": {
      "text/html": [
       "\n",
       "    <div>\n",
       "        <style>\n",
       "            /* Turns off some styling */\n",
       "            progress {\n",
       "                /* gets rid of default border in Firefox and Opera. */\n",
       "                border: none;\n",
       "                /* Needs to be in here for Safari polyfill so background images work as expected. */\n",
       "                background-size: auto;\n",
       "            }\n",
       "            .progress-bar-interrupted, .progress-bar-interrupted::-webkit-progress-bar {\n",
       "                background: #F44336;\n",
       "            }\n",
       "        </style>\n",
       "      <progress value='12000' class='' max='12000' style='width:300px; height:20px; vertical-align: middle;'></progress>\n",
       "      100.00% [12000/12000 00:36<00:00 Sampling 4 chains, 0 divergences]\n",
       "    </div>\n",
       "    "
      ],
      "text/plain": [
       "<IPython.core.display.HTML object>"
      ]
     },
     "metadata": {},
     "output_type": "display_data"
    },
    {
     "name": "stderr",
     "output_type": "stream",
     "text": [
      "Sampling 4 chains for 1_000 tune and 2_000 draw iterations (4_000 + 8_000 draws total) took 66 seconds.\n",
      "INFO:pymc3:Sampling 4 chains for 1_000 tune and 2_000 draw iterations (4_000 + 8_000 draws total) took 66 seconds.\n"
     ]
    },
    {
     "data": {
      "text/html": [
       "\n",
       "    <div>\n",
       "        <style>\n",
       "            /* Turns off some styling */\n",
       "            progress {\n",
       "                /* gets rid of default border in Firefox and Opera. */\n",
       "                border: none;\n",
       "                /* Needs to be in here for Safari polyfill so background images work as expected. */\n",
       "                background-size: auto;\n",
       "            }\n",
       "            .progress-bar-interrupted, .progress-bar-interrupted::-webkit-progress-bar {\n",
       "                background: #F44336;\n",
       "            }\n",
       "        </style>\n",
       "      <progress value='8000' class='' max='8000' style='width:300px; height:20px; vertical-align: middle;'></progress>\n",
       "      100.00% [8000/8000 00:16<00:00]\n",
       "    </div>\n",
       "    "
      ],
      "text/plain": [
       "<IPython.core.display.HTML object>"
      ]
     },
     "metadata": {},
     "output_type": "display_data"
    },
    {
     "name": "stderr",
     "output_type": "stream",
     "text": [
      "INFO:filelock:Lock 2307052658304 acquired on C:\\Users\\marco.scattolin\\AppData\\Local\\Theano\\compiledir_Windows-10-10.0.18362-SP0-Intel64_Family_6_Model_78_Stepping_3_GenuineIntel-3.8.5-64\\.lock\n",
      "INFO:filelock:Lock 2307052658304 released on C:\\Users\\marco.scattolin\\AppData\\Local\\Theano\\compiledir_Windows-10-10.0.18362-SP0-Intel64_Family_6_Model_78_Stepping_3_GenuineIntel-3.8.5-64\\.lock\n"
     ]
    },
    {
     "name": "stdout",
     "output_type": "stream",
     "text": [
      "Fitting data for channel: nsp\n"
     ]
    },
    {
     "name": "stderr",
     "output_type": "stream",
     "text": [
      "INFO:filelock:Lock 2307177142112 acquired on C:\\Users\\marco.scattolin\\AppData\\Local\\Theano\\compiledir_Windows-10-10.0.18362-SP0-Intel64_Family_6_Model_78_Stepping_3_GenuineIntel-3.8.5-64\\.lock\n",
      "INFO:filelock:Lock 2307177142112 released on C:\\Users\\marco.scattolin\\AppData\\Local\\Theano\\compiledir_Windows-10-10.0.18362-SP0-Intel64_Family_6_Model_78_Stepping_3_GenuineIntel-3.8.5-64\\.lock\n",
      "INFO:filelock:Lock 2307033599616 acquired on C:\\Users\\marco.scattolin\\AppData\\Local\\Theano\\compiledir_Windows-10-10.0.18362-SP0-Intel64_Family_6_Model_78_Stepping_3_GenuineIntel-3.8.5-64\\.lock\n",
      "INFO:filelock:Lock 2307033599616 released on C:\\Users\\marco.scattolin\\AppData\\Local\\Theano\\compiledir_Windows-10-10.0.18362-SP0-Intel64_Family_6_Model_78_Stepping_3_GenuineIntel-3.8.5-64\\.lock\n",
      "INFO:filelock:Lock 2307113943776 acquired on C:\\Users\\marco.scattolin\\AppData\\Local\\Theano\\compiledir_Windows-10-10.0.18362-SP0-Intel64_Family_6_Model_78_Stepping_3_GenuineIntel-3.8.5-64\\.lock\n",
      "INFO:filelock:Lock 2307113943776 released on C:\\Users\\marco.scattolin\\AppData\\Local\\Theano\\compiledir_Windows-10-10.0.18362-SP0-Intel64_Family_6_Model_78_Stepping_3_GenuineIntel-3.8.5-64\\.lock\n",
      "INFO:filelock:Lock 2307113947088 acquired on C:\\Users\\marco.scattolin\\AppData\\Local\\Theano\\compiledir_Windows-10-10.0.18362-SP0-Intel64_Family_6_Model_78_Stepping_3_GenuineIntel-3.8.5-64\\.lock\n",
      "INFO:filelock:Lock 2307113947088 released on C:\\Users\\marco.scattolin\\AppData\\Local\\Theano\\compiledir_Windows-10-10.0.18362-SP0-Intel64_Family_6_Model_78_Stepping_3_GenuineIntel-3.8.5-64\\.lock\n",
      "INFO:filelock:Lock 2307175787200 acquired on C:\\Users\\marco.scattolin\\AppData\\Local\\Theano\\compiledir_Windows-10-10.0.18362-SP0-Intel64_Family_6_Model_78_Stepping_3_GenuineIntel-3.8.5-64\\.lock\n",
      "INFO:filelock:Lock 2307175787200 released on C:\\Users\\marco.scattolin\\AppData\\Local\\Theano\\compiledir_Windows-10-10.0.18362-SP0-Intel64_Family_6_Model_78_Stepping_3_GenuineIntel-3.8.5-64\\.lock\n",
      "Auto-assigning NUTS sampler...\n",
      "INFO:pymc3:Auto-assigning NUTS sampler...\n",
      "Initializing NUTS using jitter+adapt_diag...\n",
      "INFO:pymc3:Initializing NUTS using jitter+adapt_diag...\n",
      "INFO:filelock:Lock 2307223662496 acquired on C:\\Users\\marco.scattolin\\AppData\\Local\\Theano\\compiledir_Windows-10-10.0.18362-SP0-Intel64_Family_6_Model_78_Stepping_3_GenuineIntel-3.8.5-64\\.lock\n",
      "INFO:filelock:Lock 2307223662496 released on C:\\Users\\marco.scattolin\\AppData\\Local\\Theano\\compiledir_Windows-10-10.0.18362-SP0-Intel64_Family_6_Model_78_Stepping_3_GenuineIntel-3.8.5-64\\.lock\n",
      "INFO:filelock:Lock 2307093552336 acquired on C:\\Users\\marco.scattolin\\AppData\\Local\\Theano\\compiledir_Windows-10-10.0.18362-SP0-Intel64_Family_6_Model_78_Stepping_3_GenuineIntel-3.8.5-64\\.lock\n",
      "INFO:filelock:Lock 2307093552336 released on C:\\Users\\marco.scattolin\\AppData\\Local\\Theano\\compiledir_Windows-10-10.0.18362-SP0-Intel64_Family_6_Model_78_Stepping_3_GenuineIntel-3.8.5-64\\.lock\n",
      "INFO:filelock:Lock 2307106444912 acquired on C:\\Users\\marco.scattolin\\AppData\\Local\\Theano\\compiledir_Windows-10-10.0.18362-SP0-Intel64_Family_6_Model_78_Stepping_3_GenuineIntel-3.8.5-64\\.lock\n",
      "INFO:filelock:Lock 2307106444912 released on C:\\Users\\marco.scattolin\\AppData\\Local\\Theano\\compiledir_Windows-10-10.0.18362-SP0-Intel64_Family_6_Model_78_Stepping_3_GenuineIntel-3.8.5-64\\.lock\n",
      "INFO:filelock:Lock 2307224299168 acquired on C:\\Users\\marco.scattolin\\AppData\\Local\\Theano\\compiledir_Windows-10-10.0.18362-SP0-Intel64_Family_6_Model_78_Stepping_3_GenuineIntel-3.8.5-64\\.lock\n",
      "INFO:filelock:Lock 2307224299168 released on C:\\Users\\marco.scattolin\\AppData\\Local\\Theano\\compiledir_Windows-10-10.0.18362-SP0-Intel64_Family_6_Model_78_Stepping_3_GenuineIntel-3.8.5-64\\.lock\n",
      "INFO:filelock:Lock 2307113461216 acquired on C:\\Users\\marco.scattolin\\AppData\\Local\\Theano\\compiledir_Windows-10-10.0.18362-SP0-Intel64_Family_6_Model_78_Stepping_3_GenuineIntel-3.8.5-64\\.lock\n",
      "INFO:filelock:Lock 2307113461216 released on C:\\Users\\marco.scattolin\\AppData\\Local\\Theano\\compiledir_Windows-10-10.0.18362-SP0-Intel64_Family_6_Model_78_Stepping_3_GenuineIntel-3.8.5-64\\.lock\n",
      "INFO:filelock:Lock 2307125487024 acquired on C:\\Users\\marco.scattolin\\AppData\\Local\\Theano\\compiledir_Windows-10-10.0.18362-SP0-Intel64_Family_6_Model_78_Stepping_3_GenuineIntel-3.8.5-64\\.lock\n",
      "INFO:filelock:Lock 2307125487024 released on C:\\Users\\marco.scattolin\\AppData\\Local\\Theano\\compiledir_Windows-10-10.0.18362-SP0-Intel64_Family_6_Model_78_Stepping_3_GenuineIntel-3.8.5-64\\.lock\n",
      "Multiprocess sampling (4 chains in 2 jobs)\n",
      "INFO:pymc3:Multiprocess sampling (4 chains in 2 jobs)\n",
      "NUTS: [noise_var, beta, ec, slope]\n",
      "INFO:pymc3:NUTS: [noise_var, beta, ec, slope]\n"
     ]
    },
    {
     "data": {
      "text/html": [
       "\n",
       "    <div>\n",
       "        <style>\n",
       "            /* Turns off some styling */\n",
       "            progress {\n",
       "                /* gets rid of default border in Firefox and Opera. */\n",
       "                border: none;\n",
       "                /* Needs to be in here for Safari polyfill so background images work as expected. */\n",
       "                background-size: auto;\n",
       "            }\n",
       "            .progress-bar-interrupted, .progress-bar-interrupted::-webkit-progress-bar {\n",
       "                background: #F44336;\n",
       "            }\n",
       "        </style>\n",
       "      <progress value='12000' class='' max='12000' style='width:300px; height:20px; vertical-align: middle;'></progress>\n",
       "      100.00% [12000/12000 00:27<00:00 Sampling 4 chains, 0 divergences]\n",
       "    </div>\n",
       "    "
      ],
      "text/plain": [
       "<IPython.core.display.HTML object>"
      ]
     },
     "metadata": {},
     "output_type": "display_data"
    },
    {
     "name": "stderr",
     "output_type": "stream",
     "text": [
      "Sampling 4 chains for 1_000 tune and 2_000 draw iterations (4_000 + 8_000 draws total) took 59 seconds.\n",
      "INFO:pymc3:Sampling 4 chains for 1_000 tune and 2_000 draw iterations (4_000 + 8_000 draws total) took 59 seconds.\n"
     ]
    },
    {
     "data": {
      "text/html": [
       "\n",
       "    <div>\n",
       "        <style>\n",
       "            /* Turns off some styling */\n",
       "            progress {\n",
       "                /* gets rid of default border in Firefox and Opera. */\n",
       "                border: none;\n",
       "                /* Needs to be in here for Safari polyfill so background images work as expected. */\n",
       "                background-size: auto;\n",
       "            }\n",
       "            .progress-bar-interrupted, .progress-bar-interrupted::-webkit-progress-bar {\n",
       "                background: #F44336;\n",
       "            }\n",
       "        </style>\n",
       "      <progress value='8000' class='' max='8000' style='width:300px; height:20px; vertical-align: middle;'></progress>\n",
       "      100.00% [8000/8000 00:14<00:00]\n",
       "    </div>\n",
       "    "
      ],
      "text/plain": [
       "<IPython.core.display.HTML object>"
      ]
     },
     "metadata": {},
     "output_type": "display_data"
    },
    {
     "name": "stderr",
     "output_type": "stream",
     "text": [
      "INFO:filelock:Lock 2307175879776 acquired on C:\\Users\\marco.scattolin\\AppData\\Local\\Theano\\compiledir_Windows-10-10.0.18362-SP0-Intel64_Family_6_Model_78_Stepping_3_GenuineIntel-3.8.5-64\\.lock\n",
      "INFO:filelock:Lock 2307175879776 released on C:\\Users\\marco.scattolin\\AppData\\Local\\Theano\\compiledir_Windows-10-10.0.18362-SP0-Intel64_Family_6_Model_78_Stepping_3_GenuineIntel-3.8.5-64\\.lock\n"
     ]
    },
    {
     "name": "stdout",
     "output_type": "stream",
     "text": [
      "Fitting data for channel: so\n"
     ]
    },
    {
     "name": "stderr",
     "output_type": "stream",
     "text": [
      "INFO:filelock:Lock 2307116673152 acquired on C:\\Users\\marco.scattolin\\AppData\\Local\\Theano\\compiledir_Windows-10-10.0.18362-SP0-Intel64_Family_6_Model_78_Stepping_3_GenuineIntel-3.8.5-64\\.lock\n",
      "INFO:filelock:Lock 2307116673152 released on C:\\Users\\marco.scattolin\\AppData\\Local\\Theano\\compiledir_Windows-10-10.0.18362-SP0-Intel64_Family_6_Model_78_Stepping_3_GenuineIntel-3.8.5-64\\.lock\n",
      "INFO:filelock:Lock 2307226600592 acquired on C:\\Users\\marco.scattolin\\AppData\\Local\\Theano\\compiledir_Windows-10-10.0.18362-SP0-Intel64_Family_6_Model_78_Stepping_3_GenuineIntel-3.8.5-64\\.lock\n",
      "INFO:filelock:Lock 2307226600592 released on C:\\Users\\marco.scattolin\\AppData\\Local\\Theano\\compiledir_Windows-10-10.0.18362-SP0-Intel64_Family_6_Model_78_Stepping_3_GenuineIntel-3.8.5-64\\.lock\n",
      "INFO:filelock:Lock 2307176195984 acquired on C:\\Users\\marco.scattolin\\AppData\\Local\\Theano\\compiledir_Windows-10-10.0.18362-SP0-Intel64_Family_6_Model_78_Stepping_3_GenuineIntel-3.8.5-64\\.lock\n",
      "INFO:filelock:Lock 2307176195984 released on C:\\Users\\marco.scattolin\\AppData\\Local\\Theano\\compiledir_Windows-10-10.0.18362-SP0-Intel64_Family_6_Model_78_Stepping_3_GenuineIntel-3.8.5-64\\.lock\n",
      "INFO:filelock:Lock 2307176001600 acquired on C:\\Users\\marco.scattolin\\AppData\\Local\\Theano\\compiledir_Windows-10-10.0.18362-SP0-Intel64_Family_6_Model_78_Stepping_3_GenuineIntel-3.8.5-64\\.lock\n",
      "INFO:filelock:Lock 2307176001600 released on C:\\Users\\marco.scattolin\\AppData\\Local\\Theano\\compiledir_Windows-10-10.0.18362-SP0-Intel64_Family_6_Model_78_Stepping_3_GenuineIntel-3.8.5-64\\.lock\n",
      "INFO:filelock:Lock 2307122021808 acquired on C:\\Users\\marco.scattolin\\AppData\\Local\\Theano\\compiledir_Windows-10-10.0.18362-SP0-Intel64_Family_6_Model_78_Stepping_3_GenuineIntel-3.8.5-64\\.lock\n",
      "INFO:filelock:Lock 2307122021808 released on C:\\Users\\marco.scattolin\\AppData\\Local\\Theano\\compiledir_Windows-10-10.0.18362-SP0-Intel64_Family_6_Model_78_Stepping_3_GenuineIntel-3.8.5-64\\.lock\n",
      "Auto-assigning NUTS sampler...\n",
      "INFO:pymc3:Auto-assigning NUTS sampler...\n",
      "Initializing NUTS using jitter+adapt_diag...\n",
      "INFO:pymc3:Initializing NUTS using jitter+adapt_diag...\n",
      "INFO:filelock:Lock 2306964336208 acquired on C:\\Users\\marco.scattolin\\AppData\\Local\\Theano\\compiledir_Windows-10-10.0.18362-SP0-Intel64_Family_6_Model_78_Stepping_3_GenuineIntel-3.8.5-64\\.lock\n",
      "INFO:filelock:Lock 2306964336208 released on C:\\Users\\marco.scattolin\\AppData\\Local\\Theano\\compiledir_Windows-10-10.0.18362-SP0-Intel64_Family_6_Model_78_Stepping_3_GenuineIntel-3.8.5-64\\.lock\n",
      "INFO:filelock:Lock 2307219733376 acquired on C:\\Users\\marco.scattolin\\AppData\\Local\\Theano\\compiledir_Windows-10-10.0.18362-SP0-Intel64_Family_6_Model_78_Stepping_3_GenuineIntel-3.8.5-64\\.lock\n",
      "INFO:filelock:Lock 2307219733376 released on C:\\Users\\marco.scattolin\\AppData\\Local\\Theano\\compiledir_Windows-10-10.0.18362-SP0-Intel64_Family_6_Model_78_Stepping_3_GenuineIntel-3.8.5-64\\.lock\n",
      "INFO:filelock:Lock 2307051539664 acquired on C:\\Users\\marco.scattolin\\AppData\\Local\\Theano\\compiledir_Windows-10-10.0.18362-SP0-Intel64_Family_6_Model_78_Stepping_3_GenuineIntel-3.8.5-64\\.lock\n",
      "INFO:filelock:Lock 2307051539664 released on C:\\Users\\marco.scattolin\\AppData\\Local\\Theano\\compiledir_Windows-10-10.0.18362-SP0-Intel64_Family_6_Model_78_Stepping_3_GenuineIntel-3.8.5-64\\.lock\n",
      "INFO:filelock:Lock 2307050163024 acquired on C:\\Users\\marco.scattolin\\AppData\\Local\\Theano\\compiledir_Windows-10-10.0.18362-SP0-Intel64_Family_6_Model_78_Stepping_3_GenuineIntel-3.8.5-64\\.lock\n",
      "INFO:filelock:Lock 2307050163024 released on C:\\Users\\marco.scattolin\\AppData\\Local\\Theano\\compiledir_Windows-10-10.0.18362-SP0-Intel64_Family_6_Model_78_Stepping_3_GenuineIntel-3.8.5-64\\.lock\n",
      "INFO:filelock:Lock 2307050362240 acquired on C:\\Users\\marco.scattolin\\AppData\\Local\\Theano\\compiledir_Windows-10-10.0.18362-SP0-Intel64_Family_6_Model_78_Stepping_3_GenuineIntel-3.8.5-64\\.lock\n",
      "INFO:filelock:Lock 2307050362240 released on C:\\Users\\marco.scattolin\\AppData\\Local\\Theano\\compiledir_Windows-10-10.0.18362-SP0-Intel64_Family_6_Model_78_Stepping_3_GenuineIntel-3.8.5-64\\.lock\n",
      "INFO:filelock:Lock 2307304978464 acquired on C:\\Users\\marco.scattolin\\AppData\\Local\\Theano\\compiledir_Windows-10-10.0.18362-SP0-Intel64_Family_6_Model_78_Stepping_3_GenuineIntel-3.8.5-64\\.lock\n",
      "INFO:filelock:Lock 2307304978464 released on C:\\Users\\marco.scattolin\\AppData\\Local\\Theano\\compiledir_Windows-10-10.0.18362-SP0-Intel64_Family_6_Model_78_Stepping_3_GenuineIntel-3.8.5-64\\.lock\n",
      "Multiprocess sampling (4 chains in 2 jobs)\n",
      "INFO:pymc3:Multiprocess sampling (4 chains in 2 jobs)\n",
      "NUTS: [noise_var, beta, ec, slope]\n",
      "INFO:pymc3:NUTS: [noise_var, beta, ec, slope]\n"
     ]
    },
    {
     "data": {
      "text/html": [
       "\n",
       "    <div>\n",
       "        <style>\n",
       "            /* Turns off some styling */\n",
       "            progress {\n",
       "                /* gets rid of default border in Firefox and Opera. */\n",
       "                border: none;\n",
       "                /* Needs to be in here for Safari polyfill so background images work as expected. */\n",
       "                background-size: auto;\n",
       "            }\n",
       "            .progress-bar-interrupted, .progress-bar-interrupted::-webkit-progress-bar {\n",
       "                background: #F44336;\n",
       "            }\n",
       "        </style>\n",
       "      <progress value='203' class='' max='12000' style='width:300px; height:20px; vertical-align: middle;'></progress>\n",
       "      1.69% [203/12000 00:00<00:14 Sampling 4 chains, 0 divergences]\n",
       "    </div>\n",
       "    "
      ],
      "text/plain": [
       "<IPython.core.display.HTML object>"
      ]
     },
     "metadata": {},
     "output_type": "display_data"
    },
    {
     "ename": "RuntimeError",
     "evalue": "Chain 0 failed.",
     "output_type": "error",
     "traceback": [
      "\u001b[1;31m---------------------------------------------------------------------------\u001b[0m",
      "\u001b[1;31mRemoteTraceback\u001b[0m                           Traceback (most recent call last)",
      "\u001b[1;31mRemoteTraceback\u001b[0m: \n\"\"\"\nTraceback (most recent call last):\n  File \"C:\\anaconda\\envs\\pyspark\\lib\\site-packages\\pymc3\\parallel_sampling.py\", line 137, in run\n    self._start_loop()\n  File \"C:\\anaconda\\envs\\pyspark\\lib\\site-packages\\pymc3\\parallel_sampling.py\", line 191, in _start_loop\n    point, stats = self._compute_point()\n  File \"C:\\anaconda\\envs\\pyspark\\lib\\site-packages\\pymc3\\parallel_sampling.py\", line 216, in _compute_point\n    point, stats = self._step_method.step(self._point)\n  File \"C:\\anaconda\\envs\\pyspark\\lib\\site-packages\\pymc3\\step_methods\\arraystep.py\", line 276, in step\n    apoint, stats = self.astep(array)\n  File \"C:\\anaconda\\envs\\pyspark\\lib\\site-packages\\pymc3\\step_methods\\hmc\\base_hmc.py\", line 147, in astep\n    self.potential.raise_ok(self._logp_dlogp_func._ordering.vmap)\n  File \"C:\\anaconda\\envs\\pyspark\\lib\\site-packages\\pymc3\\step_methods\\hmc\\quadpotential.py\", line 272, in raise_ok\n    raise ValueError(\"\\n\".join(errmsg))\nValueError: Mass matrix contains zeros on the diagonal. \nThe derivative of RV `noise_var_log__`.ravel()[0] is zero.\nThe derivative of RV `beta`.ravel()[0] is zero.\nThe derivative of RV `ec_logodds__`.ravel()[0] is zero.\nThe derivative of RV `slope_log__`.ravel()[0] is zero.\n\"\"\"",
      "\nThe above exception was the direct cause of the following exception:\n",
      "\u001b[1;31mValueError\u001b[0m                                Traceback (most recent call last)",
      "\u001b[1;32mC:\\anaconda\\envs\\pyspark\\lib\\site-packages\\pymc3\\parallel_sampling.py\u001b[0m in \u001b[0;36mrun\u001b[1;34m()\u001b[0m\n\u001b[0;32m    136\u001b[0m             \u001b[0mself\u001b[0m\u001b[1;33m.\u001b[0m\u001b[0m_point\u001b[0m \u001b[1;33m=\u001b[0m \u001b[0mself\u001b[0m\u001b[1;33m.\u001b[0m\u001b[0m_make_numpy_refs\u001b[0m\u001b[1;33m(\u001b[0m\u001b[1;33m)\u001b[0m\u001b[1;33m\u001b[0m\u001b[1;33m\u001b[0m\u001b[0m\n\u001b[1;32m--> 137\u001b[1;33m             \u001b[0mself\u001b[0m\u001b[1;33m.\u001b[0m\u001b[0m_start_loop\u001b[0m\u001b[1;33m(\u001b[0m\u001b[1;33m)\u001b[0m\u001b[1;33m\u001b[0m\u001b[1;33m\u001b[0m\u001b[0m\n\u001b[0m\u001b[0;32m    138\u001b[0m         \u001b[1;32mexcept\u001b[0m \u001b[0mKeyboardInterrupt\u001b[0m\u001b[1;33m:\u001b[0m\u001b[1;33m\u001b[0m\u001b[1;33m\u001b[0m\u001b[0m\n",
      "\u001b[1;32mC:\\anaconda\\envs\\pyspark\\lib\\site-packages\\pymc3\\parallel_sampling.py\u001b[0m in \u001b[0;36m_start_loop\u001b[1;34m()\u001b[0m\n\u001b[0;32m    190\u001b[0m                 \u001b[1;32mtry\u001b[0m\u001b[1;33m:\u001b[0m\u001b[1;33m\u001b[0m\u001b[1;33m\u001b[0m\u001b[0m\n\u001b[1;32m--> 191\u001b[1;33m                     \u001b[0mpoint\u001b[0m\u001b[1;33m,\u001b[0m \u001b[0mstats\u001b[0m \u001b[1;33m=\u001b[0m \u001b[0mself\u001b[0m\u001b[1;33m.\u001b[0m\u001b[0m_compute_point\u001b[0m\u001b[1;33m(\u001b[0m\u001b[1;33m)\u001b[0m\u001b[1;33m\u001b[0m\u001b[1;33m\u001b[0m\u001b[0m\n\u001b[0m\u001b[0;32m    192\u001b[0m                 \u001b[1;32mexcept\u001b[0m \u001b[0mSamplingError\u001b[0m \u001b[1;32mas\u001b[0m \u001b[0me\u001b[0m\u001b[1;33m:\u001b[0m\u001b[1;33m\u001b[0m\u001b[1;33m\u001b[0m\u001b[0m\n",
      "\u001b[1;32mC:\\anaconda\\envs\\pyspark\\lib\\site-packages\\pymc3\\parallel_sampling.py\u001b[0m in \u001b[0;36m_compute_point\u001b[1;34m()\u001b[0m\n\u001b[0;32m    215\u001b[0m         \u001b[1;32mif\u001b[0m \u001b[0mself\u001b[0m\u001b[1;33m.\u001b[0m\u001b[0m_step_method\u001b[0m\u001b[1;33m.\u001b[0m\u001b[0mgenerates_stats\u001b[0m\u001b[1;33m:\u001b[0m\u001b[1;33m\u001b[0m\u001b[1;33m\u001b[0m\u001b[0m\n\u001b[1;32m--> 216\u001b[1;33m             \u001b[0mpoint\u001b[0m\u001b[1;33m,\u001b[0m \u001b[0mstats\u001b[0m \u001b[1;33m=\u001b[0m \u001b[0mself\u001b[0m\u001b[1;33m.\u001b[0m\u001b[0m_step_method\u001b[0m\u001b[1;33m.\u001b[0m\u001b[0mstep\u001b[0m\u001b[1;33m(\u001b[0m\u001b[0mself\u001b[0m\u001b[1;33m.\u001b[0m\u001b[0m_point\u001b[0m\u001b[1;33m)\u001b[0m\u001b[1;33m\u001b[0m\u001b[1;33m\u001b[0m\u001b[0m\n\u001b[0m\u001b[0;32m    217\u001b[0m         \u001b[1;32melse\u001b[0m\u001b[1;33m:\u001b[0m\u001b[1;33m\u001b[0m\u001b[1;33m\u001b[0m\u001b[0m\n",
      "\u001b[1;32mC:\\anaconda\\envs\\pyspark\\lib\\site-packages\\pymc3\\step_methods\\arraystep.py\u001b[0m in \u001b[0;36mstep\u001b[1;34m()\u001b[0m\n\u001b[0;32m    275\u001b[0m         \u001b[1;32mif\u001b[0m \u001b[0mself\u001b[0m\u001b[1;33m.\u001b[0m\u001b[0mgenerates_stats\u001b[0m\u001b[1;33m:\u001b[0m\u001b[1;33m\u001b[0m\u001b[1;33m\u001b[0m\u001b[0m\n\u001b[1;32m--> 276\u001b[1;33m             \u001b[0mapoint\u001b[0m\u001b[1;33m,\u001b[0m \u001b[0mstats\u001b[0m \u001b[1;33m=\u001b[0m \u001b[0mself\u001b[0m\u001b[1;33m.\u001b[0m\u001b[0mastep\u001b[0m\u001b[1;33m(\u001b[0m\u001b[0marray\u001b[0m\u001b[1;33m)\u001b[0m\u001b[1;33m\u001b[0m\u001b[1;33m\u001b[0m\u001b[0m\n\u001b[0m\u001b[0;32m    277\u001b[0m             \u001b[0mpoint\u001b[0m \u001b[1;33m=\u001b[0m \u001b[0mself\u001b[0m\u001b[1;33m.\u001b[0m\u001b[0m_logp_dlogp_func\u001b[0m\u001b[1;33m.\u001b[0m\u001b[0marray_to_full_dict\u001b[0m\u001b[1;33m(\u001b[0m\u001b[0mapoint\u001b[0m\u001b[1;33m)\u001b[0m\u001b[1;33m\u001b[0m\u001b[1;33m\u001b[0m\u001b[0m\n",
      "\u001b[1;32mC:\\anaconda\\envs\\pyspark\\lib\\site-packages\\pymc3\\step_methods\\hmc\\base_hmc.py\u001b[0m in \u001b[0;36mastep\u001b[1;34m()\u001b[0m\n\u001b[0;32m    146\u001b[0m             ]\n\u001b[1;32m--> 147\u001b[1;33m             \u001b[0mself\u001b[0m\u001b[1;33m.\u001b[0m\u001b[0mpotential\u001b[0m\u001b[1;33m.\u001b[0m\u001b[0mraise_ok\u001b[0m\u001b[1;33m(\u001b[0m\u001b[0mself\u001b[0m\u001b[1;33m.\u001b[0m\u001b[0m_logp_dlogp_func\u001b[0m\u001b[1;33m.\u001b[0m\u001b[0m_ordering\u001b[0m\u001b[1;33m.\u001b[0m\u001b[0mvmap\u001b[0m\u001b[1;33m)\u001b[0m\u001b[1;33m\u001b[0m\u001b[1;33m\u001b[0m\u001b[0m\n\u001b[0m\u001b[0;32m    148\u001b[0m             message_energy = (\n",
      "\u001b[1;32mC:\\anaconda\\envs\\pyspark\\lib\\site-packages\\pymc3\\step_methods\\hmc\\quadpotential.py\u001b[0m in \u001b[0;36mraise_ok\u001b[1;34m()\u001b[0m\n\u001b[0;32m    271\u001b[0m                 )\n\u001b[1;32m--> 272\u001b[1;33m             \u001b[1;32mraise\u001b[0m \u001b[0mValueError\u001b[0m\u001b[1;33m(\u001b[0m\u001b[1;34m\"\\n\"\u001b[0m\u001b[1;33m.\u001b[0m\u001b[0mjoin\u001b[0m\u001b[1;33m(\u001b[0m\u001b[0merrmsg\u001b[0m\u001b[1;33m)\u001b[0m\u001b[1;33m)\u001b[0m\u001b[1;33m\u001b[0m\u001b[1;33m\u001b[0m\u001b[0m\n\u001b[0m\u001b[0;32m    273\u001b[0m \u001b[1;33m\u001b[0m\u001b[0m\n",
      "\u001b[1;31mValueError\u001b[0m: Mass matrix contains zeros on the diagonal. \nThe derivative of RV `noise_var_log__`.ravel()[0] is zero.\nThe derivative of RV `beta`.ravel()[0] is zero.\nThe derivative of RV `ec_logodds__`.ravel()[0] is zero.\nThe derivative of RV `slope_log__`.ravel()[0] is zero.",
      "\nThe above exception was the direct cause of the following exception:\n",
      "\u001b[1;31mRuntimeError\u001b[0m                              Traceback (most recent call last)",
      "\u001b[1;32m<ipython-input-1059-bea22874bbeb>\u001b[0m in \u001b[0;36m<module>\u001b[1;34m\u001b[0m\n\u001b[0;32m      2\u001b[0m     \u001b[0mprint\u001b[0m\u001b[1;33m(\u001b[0m\u001b[1;34m'Fitting data for channel: '\u001b[0m \u001b[1;33m+\u001b[0m \u001b[0md\u001b[0m\u001b[1;33m[\u001b[0m\u001b[1;34m'media_chn_name'\u001b[0m\u001b[1;33m]\u001b[0m\u001b[1;33m)\u001b[0m\u001b[1;33m\u001b[0m\u001b[1;33m\u001b[0m\u001b[0m\n\u001b[0;32m      3\u001b[0m     \u001b[0mhill_model\u001b[0m \u001b[1;33m=\u001b[0m \u001b[0mPymcHillModel\u001b[0m\u001b[1;33m(\u001b[0m\u001b[0md\u001b[0m\u001b[1;33m)\u001b[0m\u001b[1;33m\u001b[0m\u001b[1;33m\u001b[0m\u001b[0m\n\u001b[1;32m----> 4\u001b[1;33m     \u001b[0mhill_model\u001b[0m\u001b[1;33m.\u001b[0m\u001b[0msample\u001b[0m\u001b[1;33m(\u001b[0m\u001b[1;33m)\u001b[0m\u001b[1;33m\u001b[0m\u001b[1;33m\u001b[0m\u001b[0m\n\u001b[0m\u001b[0;32m      5\u001b[0m     \u001b[0mcoeffs\u001b[0m \u001b[1;33m=\u001b[0m \u001b[0mhill_model\u001b[0m\u001b[1;33m.\u001b[0m\u001b[0mget_hill_coefficients\u001b[0m\u001b[1;33m(\u001b[0m\u001b[1;33m)\u001b[0m\u001b[1;33m\u001b[0m\u001b[1;33m\u001b[0m\u001b[0m\n\u001b[0;32m      6\u001b[0m     \u001b[0mdataset\u001b[0m\u001b[1;33m.\u001b[0m\u001b[0mset_hill_params\u001b[0m\u001b[1;33m(\u001b[0m\u001b[0mcoeffs\u001b[0m\u001b[1;33m)\u001b[0m\u001b[1;33m\u001b[0m\u001b[1;33m\u001b[0m\u001b[0m\n",
      "\u001b[1;32m<ipython-input-1045-447bef22f589>\u001b[0m in \u001b[0;36msample\u001b[1;34m(self)\u001b[0m\n\u001b[0;32m     25\u001b[0m         \u001b[1;32mwith\u001b[0m \u001b[0mself\u001b[0m\u001b[1;33m.\u001b[0m\u001b[0mmodel\u001b[0m\u001b[1;33m:\u001b[0m\u001b[1;33m\u001b[0m\u001b[1;33m\u001b[0m\u001b[0m\n\u001b[0;32m     26\u001b[0m             \u001b[1;31m# fit posterior and predict\u001b[0m\u001b[1;33m\u001b[0m\u001b[1;33m\u001b[0m\u001b[1;33m\u001b[0m\u001b[0m\n\u001b[1;32m---> 27\u001b[1;33m             \u001b[0mself\u001b[0m\u001b[1;33m.\u001b[0m\u001b[0mtrace\u001b[0m \u001b[1;33m=\u001b[0m \u001b[0mpm\u001b[0m\u001b[1;33m.\u001b[0m\u001b[0msample\u001b[0m\u001b[1;33m(\u001b[0m\u001b[0mdraws\u001b[0m\u001b[1;33m=\u001b[0m\u001b[1;36m2000\u001b[0m\u001b[1;33m,\u001b[0m \u001b[0mchains\u001b[0m\u001b[1;33m=\u001b[0m\u001b[1;36m4\u001b[0m\u001b[1;33m,\u001b[0m \u001b[0mreturn_inferencedata\u001b[0m\u001b[1;33m=\u001b[0m\u001b[1;32mFalse\u001b[0m\u001b[1;33m)\u001b[0m\u001b[1;33m\u001b[0m\u001b[1;33m\u001b[0m\u001b[0m\n\u001b[0m\u001b[0;32m     28\u001b[0m             \u001b[0mself\u001b[0m\u001b[1;33m.\u001b[0m\u001b[0mposterior_predictive\u001b[0m \u001b[1;33m=\u001b[0m \u001b[0mpm\u001b[0m\u001b[1;33m.\u001b[0m\u001b[0msample_posterior_predictive\u001b[0m\u001b[1;33m(\u001b[0m\u001b[0mself\u001b[0m\u001b[1;33m.\u001b[0m\u001b[0mtrace\u001b[0m\u001b[1;33m)\u001b[0m\u001b[1;33m\u001b[0m\u001b[1;33m\u001b[0m\u001b[0m\n\u001b[0;32m     29\u001b[0m \u001b[1;33m\u001b[0m\u001b[0m\n",
      "\u001b[1;32mC:\\anaconda\\envs\\pyspark\\lib\\site-packages\\pymc3\\sampling.py\u001b[0m in \u001b[0;36msample\u001b[1;34m(draws, step, init, n_init, start, trace, chain_idx, chains, cores, tune, progressbar, model, random_seed, discard_tuned_samples, compute_convergence_checks, callback, jitter_max_retries, return_inferencedata, idata_kwargs, mp_ctx, pickle_backend, **kwargs)\u001b[0m\n\u001b[0;32m    555\u001b[0m         \u001b[0m_print_step_hierarchy\u001b[0m\u001b[1;33m(\u001b[0m\u001b[0mstep\u001b[0m\u001b[1;33m)\u001b[0m\u001b[1;33m\u001b[0m\u001b[1;33m\u001b[0m\u001b[0m\n\u001b[0;32m    556\u001b[0m         \u001b[1;32mtry\u001b[0m\u001b[1;33m:\u001b[0m\u001b[1;33m\u001b[0m\u001b[1;33m\u001b[0m\u001b[0m\n\u001b[1;32m--> 557\u001b[1;33m             \u001b[0mtrace\u001b[0m \u001b[1;33m=\u001b[0m \u001b[0m_mp_sample\u001b[0m\u001b[1;33m(\u001b[0m\u001b[1;33m**\u001b[0m\u001b[0msample_args\u001b[0m\u001b[1;33m,\u001b[0m \u001b[1;33m**\u001b[0m\u001b[0mparallel_args\u001b[0m\u001b[1;33m)\u001b[0m\u001b[1;33m\u001b[0m\u001b[1;33m\u001b[0m\u001b[0m\n\u001b[0m\u001b[0;32m    558\u001b[0m         \u001b[1;32mexcept\u001b[0m \u001b[0mpickle\u001b[0m\u001b[1;33m.\u001b[0m\u001b[0mPickleError\u001b[0m\u001b[1;33m:\u001b[0m\u001b[1;33m\u001b[0m\u001b[1;33m\u001b[0m\u001b[0m\n\u001b[0;32m    559\u001b[0m             \u001b[0m_log\u001b[0m\u001b[1;33m.\u001b[0m\u001b[0mwarning\u001b[0m\u001b[1;33m(\u001b[0m\u001b[1;34m\"Could not pickle model, sampling singlethreaded.\"\u001b[0m\u001b[1;33m)\u001b[0m\u001b[1;33m\u001b[0m\u001b[1;33m\u001b[0m\u001b[0m\n",
      "\u001b[1;32mC:\\anaconda\\envs\\pyspark\\lib\\site-packages\\pymc3\\sampling.py\u001b[0m in \u001b[0;36m_mp_sample\u001b[1;34m(draws, tune, step, chains, cores, chain, random_seed, start, progressbar, trace, model, callback, discard_tuned_samples, mp_ctx, pickle_backend, **kwargs)\u001b[0m\n\u001b[0;32m   1473\u001b[0m         \u001b[1;32mtry\u001b[0m\u001b[1;33m:\u001b[0m\u001b[1;33m\u001b[0m\u001b[1;33m\u001b[0m\u001b[0m\n\u001b[0;32m   1474\u001b[0m             \u001b[1;32mwith\u001b[0m \u001b[0msampler\u001b[0m\u001b[1;33m:\u001b[0m\u001b[1;33m\u001b[0m\u001b[1;33m\u001b[0m\u001b[0m\n\u001b[1;32m-> 1475\u001b[1;33m                 \u001b[1;32mfor\u001b[0m \u001b[0mdraw\u001b[0m \u001b[1;32min\u001b[0m \u001b[0msampler\u001b[0m\u001b[1;33m:\u001b[0m\u001b[1;33m\u001b[0m\u001b[1;33m\u001b[0m\u001b[0m\n\u001b[0m\u001b[0;32m   1476\u001b[0m                     \u001b[0mtrace\u001b[0m \u001b[1;33m=\u001b[0m \u001b[0mtraces\u001b[0m\u001b[1;33m[\u001b[0m\u001b[0mdraw\u001b[0m\u001b[1;33m.\u001b[0m\u001b[0mchain\u001b[0m \u001b[1;33m-\u001b[0m \u001b[0mchain\u001b[0m\u001b[1;33m]\u001b[0m\u001b[1;33m\u001b[0m\u001b[1;33m\u001b[0m\u001b[0m\n\u001b[0;32m   1477\u001b[0m                     \u001b[1;32mif\u001b[0m \u001b[0mtrace\u001b[0m\u001b[1;33m.\u001b[0m\u001b[0msupports_sampler_stats\u001b[0m \u001b[1;32mand\u001b[0m \u001b[0mdraw\u001b[0m\u001b[1;33m.\u001b[0m\u001b[0mstats\u001b[0m \u001b[1;32mis\u001b[0m \u001b[1;32mnot\u001b[0m \u001b[1;32mNone\u001b[0m\u001b[1;33m:\u001b[0m\u001b[1;33m\u001b[0m\u001b[1;33m\u001b[0m\u001b[0m\n",
      "\u001b[1;32mC:\\anaconda\\envs\\pyspark\\lib\\site-packages\\pymc3\\parallel_sampling.py\u001b[0m in \u001b[0;36m__iter__\u001b[1;34m(self)\u001b[0m\n\u001b[0;32m    477\u001b[0m \u001b[1;33m\u001b[0m\u001b[0m\n\u001b[0;32m    478\u001b[0m         \u001b[1;32mwhile\u001b[0m \u001b[0mself\u001b[0m\u001b[1;33m.\u001b[0m\u001b[0m_active\u001b[0m\u001b[1;33m:\u001b[0m\u001b[1;33m\u001b[0m\u001b[1;33m\u001b[0m\u001b[0m\n\u001b[1;32m--> 479\u001b[1;33m             \u001b[0mdraw\u001b[0m \u001b[1;33m=\u001b[0m \u001b[0mProcessAdapter\u001b[0m\u001b[1;33m.\u001b[0m\u001b[0mrecv_draw\u001b[0m\u001b[1;33m(\u001b[0m\u001b[0mself\u001b[0m\u001b[1;33m.\u001b[0m\u001b[0m_active\u001b[0m\u001b[1;33m)\u001b[0m\u001b[1;33m\u001b[0m\u001b[1;33m\u001b[0m\u001b[0m\n\u001b[0m\u001b[0;32m    480\u001b[0m             \u001b[0mproc\u001b[0m\u001b[1;33m,\u001b[0m \u001b[0mis_last\u001b[0m\u001b[1;33m,\u001b[0m \u001b[0mdraw\u001b[0m\u001b[1;33m,\u001b[0m \u001b[0mtuning\u001b[0m\u001b[1;33m,\u001b[0m \u001b[0mstats\u001b[0m\u001b[1;33m,\u001b[0m \u001b[0mwarns\u001b[0m \u001b[1;33m=\u001b[0m \u001b[0mdraw\u001b[0m\u001b[1;33m\u001b[0m\u001b[1;33m\u001b[0m\u001b[0m\n\u001b[0;32m    481\u001b[0m             \u001b[0mself\u001b[0m\u001b[1;33m.\u001b[0m\u001b[0m_total_draws\u001b[0m \u001b[1;33m+=\u001b[0m \u001b[1;36m1\u001b[0m\u001b[1;33m\u001b[0m\u001b[1;33m\u001b[0m\u001b[0m\n",
      "\u001b[1;32mC:\\anaconda\\envs\\pyspark\\lib\\site-packages\\pymc3\\parallel_sampling.py\u001b[0m in \u001b[0;36mrecv_draw\u001b[1;34m(processes, timeout)\u001b[0m\n\u001b[0;32m    357\u001b[0m             \u001b[1;32melse\u001b[0m\u001b[1;33m:\u001b[0m\u001b[1;33m\u001b[0m\u001b[1;33m\u001b[0m\u001b[0m\n\u001b[0;32m    358\u001b[0m                 \u001b[0merror\u001b[0m \u001b[1;33m=\u001b[0m \u001b[0mRuntimeError\u001b[0m\u001b[1;33m(\u001b[0m\u001b[1;34m\"Chain %s failed.\"\u001b[0m \u001b[1;33m%\u001b[0m \u001b[0mproc\u001b[0m\u001b[1;33m.\u001b[0m\u001b[0mchain\u001b[0m\u001b[1;33m)\u001b[0m\u001b[1;33m\u001b[0m\u001b[1;33m\u001b[0m\u001b[0m\n\u001b[1;32m--> 359\u001b[1;33m             \u001b[1;32mraise\u001b[0m \u001b[0merror\u001b[0m \u001b[1;32mfrom\u001b[0m \u001b[0mold_error\u001b[0m\u001b[1;33m\u001b[0m\u001b[1;33m\u001b[0m\u001b[0m\n\u001b[0m\u001b[0;32m    360\u001b[0m         \u001b[1;32melif\u001b[0m \u001b[0mmsg\u001b[0m\u001b[1;33m[\u001b[0m\u001b[1;36m0\u001b[0m\u001b[1;33m]\u001b[0m \u001b[1;33m==\u001b[0m \u001b[1;34m\"writing_done\"\u001b[0m\u001b[1;33m:\u001b[0m\u001b[1;33m\u001b[0m\u001b[1;33m\u001b[0m\u001b[0m\n\u001b[0;32m    361\u001b[0m             \u001b[0mproc\u001b[0m\u001b[1;33m.\u001b[0m\u001b[0m_readable\u001b[0m \u001b[1;33m=\u001b[0m \u001b[1;32mTrue\u001b[0m\u001b[1;33m\u001b[0m\u001b[1;33m\u001b[0m\u001b[0m\n",
      "\u001b[1;31mRuntimeError\u001b[0m: Chain 0 failed."
     ]
    }
   ],
   "source": [
    "dataset.set_hill_params(hill_coeffs)"
   ]
  },
  {
   "cell_type": "code",
   "execution_count": 1062,
   "metadata": {
    "ExecuteTime": {
     "end_time": "2021-06-03T16:35:33.846468Z",
     "start_time": "2021-06-03T16:35:33.830279Z"
    }
   },
   "outputs": [
    {
     "data": {
      "text/plain": [
       "{'media_chn_name': 'so',\n",
       " 'y': array([0.        , 0.        , 0.        , 0.        , 0.        ,\n",
       "        0.        , 0.        , 0.        , 0.        , 0.        ,\n",
       "        0.        , 0.        , 0.        , 0.        , 0.        ,\n",
       "        0.        , 0.        , 0.        , 0.        , 0.        ,\n",
       "        0.        , 0.        , 0.        , 0.        , 0.        ,\n",
       "        0.        , 0.        , 0.        , 0.        , 0.        ,\n",
       "        0.        , 0.        , 0.        , 0.        , 0.        ,\n",
       "        0.        , 0.        , 0.        , 0.        , 0.        ,\n",
       "        0.        , 0.        , 0.        , 0.        , 0.        ,\n",
       "        0.        , 0.        , 0.        , 0.        , 0.        ,\n",
       "        0.        , 0.        , 0.08860443, 0.69775035, 0.1797351 ,\n",
       "        0.98071056, 0.23084764, 0.27155187, 0.88120809, 1.02460194,\n",
       "        1.59419491, 0.54481115, 0.42481737, 0.6567946 , 0.34120439,\n",
       "        0.43308084, 1.63085666, 0.56269133, 3.78577156, 3.83575284,\n",
       "        1.40844787, 5.11612324, 3.83923842, 0.80681784, 1.08263866,\n",
       "        1.21492083, 0.64915806, 0.62821974, 1.06470328, 0.41186743,\n",
       "        0.96542553, 0.30541724, 1.15642763, 0.43003534, 1.04120035,\n",
       "        2.1262701 , 0.35675059, 1.33396303, 0.38264734, 1.13061534,\n",
       "        2.85781345, 3.25123088, 0.35157871, 0.50160338, 2.19254966,\n",
       "        2.53535668, 0.74559885, 1.83576378, 1.62640437, 2.14200824,\n",
       "        0.81199788, 0.50102069, 1.7239332 , 0.51440654, 0.80974753,\n",
       "        0.41284624, 1.23428338, 1.50201833, 1.55198584, 0.45714144,\n",
       "        0.42203397, 0.37207395, 0.83173488, 0.5871684 , 0.44560099,\n",
       "        2.16614378, 2.03704276, 2.07441042, 0.47996929, 2.85362664,\n",
       "        4.24810462, 1.11206965, 4.94513203, 1.10882056, 1.67424207,\n",
       "        0.73474799, 1.23752058, 1.36694567, 0.25286001, 1.2689452 ,\n",
       "        2.03529257, 0.82393629, 1.78305477, 1.60673681, 0.45397795,\n",
       "        0.8690678 , 1.72885598, 0.47605327, 2.20685444, 1.62507427,\n",
       "        0.3669071 , 0.64117668, 1.72978996, 0.79488037, 1.03427478,\n",
       "        1.50635298, 0.46683533, 2.01763103, 0.5330272 , 1.07232933,\n",
       "        1.25069639, 1.48650378, 0.70398721, 1.84572674, 0.49801711,\n",
       "        0.43281712, 1.96726795, 1.6870962 , 1.47195862, 0.30179896,\n",
       "        0.43106127, 1.74729291, 1.2767975 , 2.25683701, 1.81510428,\n",
       "        0.61693678, 1.75000939, 1.84603845, 0.40112615, 1.3838011 ,\n",
       "        0.79332385, 0.64062321, 2.20692842, 4.67327842, 3.95317404,\n",
       "        1.26190456, 6.32800311, 2.47493988, 0.84357781, 1.09836936,\n",
       "        0.18994296, 0.17363973, 0.23679129, 0.50903132, 0.42948964,\n",
       "        1.38248699, 1.13873755, 1.09405245, 0.2883663 , 2.70430466,\n",
       "        1.73453805, 0.2414123 , 1.1953483 , 1.7910824 , 2.58922568,\n",
       "        2.77026582, 1.34600941, 2.11599946, 1.86816395, 0.32426569,\n",
       "        0.34277465, 1.25942484, 1.78478623, 1.87012217, 0.44115498,\n",
       "        2.18870678, 0.61421331, 0.33803884, 1.42616171]),\n",
       " 'x': array([0.00000000e+00, 0.00000000e+00, 0.00000000e+00, 0.00000000e+00,\n",
       "        0.00000000e+00, 0.00000000e+00, 2.47487228e-04, 2.13566587e-03,\n",
       "        6.58867903e-03, 1.14053059e-02, 1.47248047e-02, 2.03902680e-02,\n",
       "        4.37064598e-02, 6.54911862e-02, 5.27432757e-02, 5.75151240e-02,\n",
       "        1.28932301e-01, 4.14729944e-01, 6.55422890e-01, 3.67301872e-01,\n",
       "        1.68126407e-01, 1.43978759e-01, 1.21533679e-01, 6.69509726e-02,\n",
       "        2.08891484e-02, 1.22302954e-02, 2.65958890e-02, 7.07074073e-02,\n",
       "        1.35466096e-01, 1.68496674e-01, 2.16228086e-01, 3.49093720e-01,\n",
       "        4.59697621e-01, 4.22969248e-01, 4.33800933e-01, 4.82566421e-01,\n",
       "        4.51187068e-01, 4.09569353e-01, 3.15551454e-01, 3.00931598e-01,\n",
       "        3.39552651e-01, 3.58132090e-01, 4.18014312e-01, 3.99782687e-01,\n",
       "        3.50233361e-01, 3.88033754e-01, 4.42416904e-01, 4.15317100e-01,\n",
       "        3.92672604e-01, 3.42917490e-01, 2.84766896e-01, 3.04888105e-01,\n",
       "        3.53995794e-01, 3.84700428e-01, 2.47753045e-01, 1.64950740e-01,\n",
       "        1.80836567e-01, 2.22591641e-01, 2.56710186e-01, 3.22533041e-01,\n",
       "        3.50275423e-01, 3.23264007e-01, 3.98398434e-01, 5.31800003e-01,\n",
       "        5.77073676e-01, 5.49725649e-01, 5.96076398e-01, 8.52531934e-01,\n",
       "        1.33797225e+00, 2.16817831e+00, 2.82961150e+00, 2.24517868e+00,\n",
       "        1.76887032e+00, 1.91460628e+00, 1.91832266e+00, 1.43297143e+00,\n",
       "        6.70559170e-01, 3.78329483e-01, 4.29258310e-01, 4.66181399e-01,\n",
       "        5.04075694e-01, 5.34246976e-01, 4.61479943e-01, 4.46199333e-01,\n",
       "        4.70876168e-01, 5.28863770e-01, 5.12446181e-01, 5.76441550e-01,\n",
       "        6.77559003e-01, 5.78440252e-01, 4.34413894e-01, 5.09582972e-01,\n",
       "        8.50287922e-01, 1.08460025e+00, 9.01534395e-01, 9.77706459e-01,\n",
       "        1.38467942e+00, 1.49182672e+00, 1.29600942e+00, 1.11859576e+00,\n",
       "        7.71480650e-01, 6.52793635e-01, 8.44181548e-01, 1.04115071e+00,\n",
       "        1.05472778e+00, 9.76405285e-01, 6.86137798e-01, 5.57875886e-01,\n",
       "        4.35421130e-01, 3.29627609e-01, 2.75836985e-01, 3.23868728e-01,\n",
       "        3.49094694e-01, 2.98608976e-01, 3.68001338e-01, 7.04194801e-01,\n",
       "        1.08120548e+00, 1.20753161e+00, 1.56660654e+00, 2.30066912e+00,\n",
       "        2.93066032e+00, 3.77354212e+00, 4.13268749e+00, 3.24517550e+00,\n",
       "        2.61374612e+00, 2.27006943e+00, 2.41323031e+00, 1.97155261e+00,\n",
       "        1.09409729e+00, 8.96095353e-01, 1.16756986e+00, 1.17210831e+00,\n",
       "        8.67820927e-01, 6.18962017e-01, 6.07636856e-01, 6.92939806e-01,\n",
       "        6.52070716e-01, 5.97807236e-01, 6.21838790e-01, 7.18364323e-01,\n",
       "        9.56816948e-01, 1.17455264e+00, 1.11555997e+00, 8.79982036e-01,\n",
       "        7.97260562e-01, 9.17537430e-01, 1.14993822e+00, 1.18468228e+00,\n",
       "        1.31440354e+00, 1.44455807e+00, 1.54023992e+00, 1.45753908e+00,\n",
       "        1.30292840e+00, 1.41152017e+00, 1.27226048e+00, 9.28537571e-01,\n",
       "        8.30807023e-01, 8.56440956e-01, 8.30608336e-01, 9.76980506e-01,\n",
       "        1.07739868e+00, 8.31510002e-01, 8.78968305e-01, 1.42582460e+00,\n",
       "        1.96779592e+00, 1.74384478e+00, 1.28159634e+00, 1.38911431e+00,\n",
       "        1.86392422e+00, 1.79942265e+00, 1.65548803e+00, 2.46861471e+00,\n",
       "        3.34191494e+00, 3.48448924e+00, 3.77526079e+00, 3.51673699e+00,\n",
       "        2.72419550e+00, 2.46481331e+00, 2.13283425e+00, 1.57363609e+00,\n",
       "        1.23497377e+00, 1.20768559e+00, 1.23500143e+00, 1.13160012e+00,\n",
       "        1.14523376e+00, 1.48517813e+00, 1.46701747e+00, 1.07426713e+00,\n",
       "        9.42602962e-01, 1.35988939e+00, 1.72524365e+00, 1.67080376e+00,\n",
       "        1.42124347e+00, 1.49001605e+00, 1.80930447e+00, 1.91288671e+00,\n",
       "        2.06015030e+00, 2.21879488e+00, 1.67035351e+00, 1.39612572e+00,\n",
       "        1.48596194e+00, 1.64885687e+00, 2.30741266e+00, 2.63450055e+00,\n",
       "        2.62103069e+00, 2.28498649e+00, 1.42860066e+00, 9.45131451e-01,\n",
       "        1.09345602e+00])}"
      ]
     },
     "execution_count": 1062,
     "metadata": {},
     "output_type": "execute_result"
    }
   ],
   "source": [
    "d"
   ]
  }
 ],
 "metadata": {
  "kernelspec": {
   "display_name": "Python 3",
   "language": "python",
   "name": "python3"
  },
  "language_info": {
   "codemirror_mode": {
    "name": "ipython",
    "version": 3
   },
   "file_extension": ".py",
   "mimetype": "text/x-python",
   "name": "python",
   "nbconvert_exporter": "python",
   "pygments_lexer": "ipython3",
   "version": "3.8.5"
  },
  "toc": {
   "base_numbering": 1,
   "nav_menu": {},
   "number_sections": true,
   "sideBar": true,
   "skip_h1_title": false,
   "title_cell": "Table of Contents",
   "title_sidebar": "Contents",
   "toc_cell": false,
   "toc_position": {},
   "toc_section_display": true,
   "toc_window_display": false
  },
  "varInspector": {
   "cols": {
    "lenName": 16,
    "lenType": 16,
    "lenVar": 40
   },
   "kernels_config": {
    "python": {
     "delete_cmd_postfix": "",
     "delete_cmd_prefix": "del ",
     "library": "var_list.py",
     "varRefreshCmd": "print(var_dic_list())"
    },
    "r": {
     "delete_cmd_postfix": ") ",
     "delete_cmd_prefix": "rm(",
     "library": "var_list.r",
     "varRefreshCmd": "cat(var_dic_list()) "
    }
   },
   "types_to_exclude": [
    "module",
    "function",
    "builtin_function_or_method",
    "instance",
    "_Feature"
   ],
   "window_display": false
  }
 },
 "nbformat": 4,
 "nbformat_minor": 4
}
